{
 "cells": [
  {
   "cell_type": "markdown",
   "metadata": {
    "pycharm": {
     "name": "#%% md\n"
    }
   },
   "source": [
    "# dgpy-libs\n",
    "\n",
    "<img src=\"https://github.com/dynamic-graphics-inc/dgpy-libs/blob/master/_data/dgpy_logo.svg?raw=true\" alt=\"drawing\" width=\"120\"/> **Dynamic Graphics Python**\n",
    "\n",
    "[![Binder](https://mybinder.org/badge_logo.svg)](https://mybinder.org/v2/gh/dynamic-graphics-inc/dgpy-libs/master?filepath=README.ipynb)\n",
    "[![Code style: black](https://img.shields.io/badge/code%20style-black-000000.svg)](https://github.com/psf/black)\n",
    "\n",
    "## LIBS\n",
    "\n",
    "### [aiopen](./aiopen/README.ipynb)\n",
    "\n",
    "### [funkify](./funkify/README.ipynb)\n",
    "\n",
    "### [jsonbourne](./jsonbourne/README.ipynb)\n",
    "\n",
    "### [lager](./lager/README.ipynb)\n",
    "\n",
    "### [requires](./requires/README.ipynb)\n",
    "\n",
    "## Notebooks\n",
    "\n",
    " - [Filtering None and False-y values](./notebooks/filter_none.ipynb)\n",
    "\n"
   ]
  }
 ],
 "metadata": {
  "kernelspec": {
   "display_name": "Python 3",
   "language": "python",
   "name": "python3"
  },
  "language_info": {
   "codemirror_mode": {
    "name": "ipython",
    "version": 3
   },
   "file_extension": ".py",
   "mimetype": "text/x-python",
   "name": "python",
   "nbconvert_exporter": "python",
   "pygments_lexer": "ipython3",
   "version": "3.7.6"
  }
 },
 "nbformat": 4,
 "nbformat_minor": 4
}