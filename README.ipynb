{
 "cells": [
  {
   "cell_type": "markdown",
   "metadata": {
    "pycharm": {
     "name": "#%% md\n"
    }
   },
   "source": [
    "# dgpy-libs\n",
    "\n",
    "<img src=\"https://github.com/dynamic-graphics-inc/dgpy-libs/blob/master/_data/dgpy_banner.svg?raw=true\" alt=\"drawing\" width=\"320\"/>\n",
    "\n",
    "[![Binder](https://mybinder.org/badge_logo.svg)](https://mybinder.org/v2/gh/dynamic-graphics-inc/dgpy-libs/master?filepath=README.ipynb)\n",
    "[![Code style: black](https://img.shields.io/badge/code%20style-black-000000.svg)](https://github.com/psf/black)\n",
    "\n",
    "## Libs\n",
    "\n",
    "```\n",
    "libs\n",
    "├── aiopen\n",
    "├── funkify\n",
    "├── jsonbourne\n",
    "├── lager\n",
    "└── requires\n",
    "```\n",
    "\n",
    "### [aiopen](./libs/aiopen/README.md) ~ `pip install aiopen`\n",
    "\n",
    "### [funkify](./libs/funkify/README.md) ~ `pip install funkify`\n",
    "\n",
    "### [jsonbourne](./libs/jsonbourne/README.md) ~ `pip install jsonbourne`\n",
    "\n",
    "### [lager](./libs/lager/README.md) ~ `pip install lager`\n",
    "\n",
    "### [requires](./libs/requires/README.md) ~ `pip install requires`\n",
    "\n",
    "\n",
    "## Notebooks\n",
    "\n",
    "```\n",
    "notebooks/\n",
    "├── cache_money.ipynb\n",
    "├── filter_none.ipynb\n",
    "├── json_parsing.ipynb\n",
    "└── string_fmt.ipynb\n",
    "```\n",
    "\n",
    " - [Filtering None and False-y values](./notebooks/filter_none.ipynb)\n",
    " - [cache money! `functools.lru_cache`](./notebooks/cache_money.ipynb)\n",
    " - [String formatting funks](./notebooks/string_fmt.ipynb)\n",
    " - [JSON parsing vs plain-jane dictionaries](./notebooks/json_parsing.ipynb)\n",
    "\n"
   ]
  }
 ],
 "metadata": {
  "kernelspec": {
   "display_name": "Python 3",
   "language": "python",
   "name": "python3"
  },
  "language_info": {
   "codemirror_mode": {
    "name": "ipython",
    "version": 3
   },
   "file_extension": ".py",
   "mimetype": "text/x-python",
   "name": "python",
   "nbconvert_exporter": "python",
   "pygments_lexer": "ipython3",
   "version": "3.8.4"
  }
 },
 "nbformat": 4,
 "nbformat_minor": 4
}