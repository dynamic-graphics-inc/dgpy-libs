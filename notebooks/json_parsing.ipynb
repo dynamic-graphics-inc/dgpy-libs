{
 "cells": [
  {
   "cell_type": "markdown",
   "metadata": {},
   "source": [
    "# JSON & python\n",
    "\n",
    "## Here is a dictionary...\n",
    "\n",
    "We can create this dictionary by writing it as python code (like below).\n",
    "\n",
    "We could also create the same dictionary by `json.loads`-ing a json string of the same dictionary.\n",
    "\n",
    "It turns out that parsing a json string is MUCH faster than creating the dictionary as a python literal"
   ]
  },
  {
   "cell_type": "code",
   "execution_count": 1,
   "metadata": {},
   "outputs": [],
   "source": [
    "data = {\n",
    "    \"id\": 1,\n",
    "    \"code\": None,\n",
    "    \"subd\": {\"a\": 23, \"b\": {\"herm\": 2}},\n",
    "    \"type\": \"foo\",\n",
    "    \"bars\": [\n",
    "        {\"id\": 6934900},\n",
    "        {\"id\": 6934977},\n",
    "        {\"id\": 6934992},\n",
    "        {\"id\": 6934993},\n",
    "        {\"id\": 6935014},\n",
    "    ],\n",
    "    \"n\": 10,\n",
    "    \"date_str\": \"2013-07-08 00:00:00\",\n",
    "    \"float_here\": 0.454545,\n",
    "    \"complex\": [{\"id\": 83865, \"goal\": \"herm\", \"state\": \"active\"}],\n",
    "    \"profile_id\": None,\n",
    "    \"state\": \"active\",\n",
    "}"
   ]
  },
  {
   "cell_type": "markdown",
   "metadata": {},
   "source": [
    "___\n",
    "\n",
    "## Creating a python literal dictionary for python to parse"
   ]
  },
  {
   "cell_type": "code",
   "execution_count": 2,
   "metadata": {},
   "outputs": [
    {
     "data": {
      "text/plain": [
       "\"{'id': 1, 'code': None, 'subd': {'a': 23, 'b': {'herm': 2}}, 'type': 'foo', 'bars': [{'id': 6934900}, {'id': 6934977}, {'id': 6934992}, {'id': 6934993}, {'id': 6935014}], 'n': 10, 'date_str': '2013-07-08 00:00:00', 'float_here': 0.454545, 'complex': [{'id': 83865, 'goal': 'herm', 'state': 'active'}], 'profile_id': None, 'state': 'active'}\""
      ]
     },
     "execution_count": 2,
     "metadata": {},
     "output_type": "execute_result"
    }
   ],
   "source": [
    "data_python_str = str(data)\n",
    "data_python_str  # here is our string"
   ]
  },
  {
   "cell_type": "markdown",
   "metadata": {},
   "source": [
    "___\n",
    "\n",
    "## Creating a JSON string to parse"
   ]
  },
  {
   "cell_type": "code",
   "execution_count": 3,
   "metadata": {},
   "outputs": [
    {
     "data": {
      "text/plain": [
       "'{\"id\": 1, \"code\": null, \"subd\": {\"a\": 23, \"b\": {\"herm\": 2}}, \"type\": \"foo\", \"bars\": [{\"id\": 6934900}, {\"id\": 6934977}, {\"id\": 6934992}, {\"id\": 6934993}, {\"id\": 6935014}], \"n\": 10, \"date_str\": \"2013-07-08 00:00:00\", \"float_here\": 0.454545, \"complex\": [{\"id\": 83865, \"goal\": \"herm\", \"state\": \"active\"}], \"profile_id\": null, \"state\": \"active\"}'"
      ]
     },
     "execution_count": 3,
     "metadata": {},
     "output_type": "execute_result"
    }
   ],
   "source": [
    "import json\n",
    "\n",
    "data_json_string = json.dumps(data)\n",
    "data_json_string"
   ]
  },
  {
   "cell_type": "markdown",
   "metadata": {},
   "source": [
    "## NOTE: The json string and the python string look almost identical"
   ]
  },
  {
   "cell_type": "code",
   "execution_count": 4,
   "metadata": {},
   "outputs": [
    {
     "name": "stdout",
     "output_type": "stream",
     "text": [
      "'parsed_dict_str' is not defined ... yet ...\n"
     ]
    }
   ],
   "source": [
    "try:\n",
    "    print(parsed_dict_str)\n",
    "except NameError:\n",
    "    print(\"'parsed_dict_str' is not defined ... yet ...\")"
   ]
  },
  {
   "cell_type": "code",
   "execution_count": 5,
   "metadata": {},
   "outputs": [
    {
     "name": "stdout",
     "output_type": "stream",
     "text": [
      "This is the python string we are going to execute to do the parsing:\n"
     ]
    },
    {
     "data": {
      "text/plain": [
       "\"parsed_dict_str = {'id': 1, 'code': None, 'subd': {'a': 23, 'b': {'herm': 2}}, 'type': 'foo', 'bars': [{'id': 6934900}, {'id': 6934977}, {'id': 6934992}, {'id': 6934993}, {'id': 6935014}], 'n': 10, 'date_str': '2013-07-08 00:00:00', 'float_here': 0.454545, 'complex': [{'id': 83865, 'goal': 'herm', 'state': 'active'}], 'profile_id': None, 'state': 'active'}\""
      ]
     },
     "execution_count": 5,
     "metadata": {},
     "output_type": "execute_result"
    }
   ],
   "source": [
    "parse_and_set_data_python_str = \"parsed_dict_str = \" + data_python_str\n",
    "print(\"This is the python string we are going to execute to do the parsing:\")\n",
    "parse_and_set_data_python_str"
   ]
  },
  {
   "cell_type": "markdown",
   "metadata": {},
   "source": [
    "___\n",
    "\n",
    "## Parsing the dictionary string w/ python"
   ]
  },
  {
   "cell_type": "code",
   "execution_count": 6,
   "metadata": {},
   "outputs": [
    {
     "name": "stdout",
     "output_type": "stream",
     "text": [
      "NOW IT IS DEFINED\n"
     ]
    },
    {
     "data": {
      "text/plain": [
       "{'id': 1,\n",
       " 'code': None,\n",
       " 'subd': {'a': 23, 'b': {'herm': 2}},\n",
       " 'type': 'foo',\n",
       " 'bars': [{'id': 6934900},\n",
       "  {'id': 6934977},\n",
       "  {'id': 6934992},\n",
       "  {'id': 6934993},\n",
       "  {'id': 6935014}],\n",
       " 'n': 10,\n",
       " 'date_str': '2013-07-08 00:00:00',\n",
       " 'float_here': 0.454545,\n",
       " 'complex': [{'id': 83865, 'goal': 'herm', 'state': 'active'}],\n",
       " 'profile_id': None,\n",
       " 'state': 'active'}"
      ]
     },
     "execution_count": 6,
     "metadata": {},
     "output_type": "execute_result"
    }
   ],
   "source": [
    "exec(parse_and_set_data_python_str)\n",
    "print(\"NOW IT IS DEFINED\")\n",
    "parsed_dict_str"
   ]
  },
  {
   "cell_type": "markdown",
   "metadata": {},
   "source": [
    "## They are the same!"
   ]
  },
  {
   "cell_type": "code",
   "execution_count": 7,
   "metadata": {},
   "outputs": [
    {
     "data": {
      "text/plain": [
       "True"
      ]
     },
     "execution_count": 7,
     "metadata": {},
     "output_type": "execute_result"
    }
   ],
   "source": [
    "parsed_dict_str == data"
   ]
  },
  {
   "cell_type": "markdown",
   "metadata": {},
   "source": [
    "___\n",
    "\n",
    "## Parsing the JSON string dictionary"
   ]
  },
  {
   "cell_type": "code",
   "execution_count": 8,
   "metadata": {},
   "outputs": [
    {
     "name": "stdout",
     "output_type": "stream",
     "text": [
      "---\n",
      "DATA PARSED VIA JSON: {'id': 1, 'code': None, 'subd': {'a': 23, 'b': {'herm': 2}}, 'type': 'foo', 'bars': [{'id': 6934900}, {'id': 6934977}, {'id': 6934992}, {'id': 6934993}, {'id': 6935014}], 'n': 10, 'date_str': '2013-07-08 00:00:00', 'float_here': 0.454545, 'complex': [{'id': 83865, 'goal': 'herm', 'state': 'active'}], 'profile_id': None, 'state': 'active'}\n",
      "---\n",
      "JSON PARSED DATA == DICT PARSED DATA: True\n"
     ]
    }
   ],
   "source": [
    "json_parsed_data = json.loads(data_json_string)\n",
    "print(\"---\")\n",
    "print(\"DATA PARSED VIA JSON:\", json_parsed_data)\n",
    "print(\"---\")\n",
    "print(\n",
    "    \"JSON PARSED DATA == DICT PARSED DATA: {}\".format(\n",
    "        json_parsed_data == parsed_dict_str\n",
    "    )\n",
    ")"
   ]
  },
  {
   "cell_type": "markdown",
   "metadata": {},
   "source": [
    "___\n",
    "\n",
    "# It's time to time\n",
    "\n",
    "## First up parsing the python dictionary as a string"
   ]
  },
  {
   "cell_type": "code",
   "execution_count": 9,
   "metadata": {},
   "outputs": [
    {
     "name": "stdout",
     "output_type": "stream",
     "text": [
      "67.6 µs ± 2.2 µs per loop (mean ± std. dev. of 7 runs, 10000 loops each)\n"
     ]
    }
   ],
   "source": [
    "%%timeit\n",
    "exec(parse_and_set_data_python_str)"
   ]
  },
  {
   "cell_type": "markdown",
   "metadata": {},
   "source": [
    "## Second parsing the json string"
   ]
  },
  {
   "cell_type": "code",
   "execution_count": 10,
   "metadata": {},
   "outputs": [
    {
     "name": "stdout",
     "output_type": "stream",
     "text": [
      "7.34 µs ± 1.52 µs per loop (mean ± std. dev. of 7 runs, 100000 loops each)\n"
     ]
    }
   ],
   "source": [
    "%%timeit\n",
    "# NBVAL_IGNORE_OUTPUT\n",
    "json_parsed_data = json.loads(data_json_string)"
   ]
  },
  {
   "cell_type": "markdown",
   "metadata": {},
   "source": [
    "# The JSON parsing is WAY faster... but there are faster json libs for python\n",
    "\n",
    "## Lets try python-rapidjson"
   ]
  },
  {
   "cell_type": "code",
   "execution_count": 11,
   "metadata": {},
   "outputs": [
    {
     "name": "stdout",
     "output_type": "stream",
     "text": [
      "7.52 µs ± 152 ns per loop (mean ± std. dev. of 7 runs, 100000 loops each)\n"
     ]
    }
   ],
   "source": [
    "%%timeit\n",
    "# NBVAL_IGNORE_OUTPUT\n",
    "import rapidjson\n",
    "\n",
    "json_parsed_data = rapidjson.loads(data_json_string)"
   ]
  },
  {
   "cell_type": "markdown",
   "metadata": {},
   "source": [
    "## Lets try ujson"
   ]
  },
  {
   "cell_type": "code",
   "execution_count": 12,
   "metadata": {},
   "outputs": [
    {
     "name": "stdout",
     "output_type": "stream",
     "text": [
      "4.16 µs ± 114 ns per loop (mean ± std. dev. of 7 runs, 100000 loops each)\n"
     ]
    }
   ],
   "source": [
    "%%timeit\n",
    "# NBVAL_IGNORE_OUTPUT\n",
    "import ujson\n",
    "\n",
    "json_parsed_data = ujson.loads(data_json_string)"
   ]
  },
  {
   "cell_type": "markdown",
   "metadata": {},
   "source": [
    "## Lets try orjson"
   ]
  },
  {
   "cell_type": "code",
   "execution_count": 13,
   "metadata": {},
   "outputs": [
    {
     "name": "stdout",
     "output_type": "stream",
     "text": [
      "4.01 µs ± 197 ns per loop (mean ± std. dev. of 7 runs, 100000 loops each)\n"
     ]
    }
   ],
   "source": [
    "%%timeit\n",
    "# NBVAL_IGNORE_OUTPUT\n",
    "import orjson\n",
    "\n",
    "json_parsed_data = orjson.loads(data_json_string)"
   ]
  }
 ],
 "metadata": {
  "kernelspec": {
   "display_name": "Python 3",
   "language": "python",
   "name": "python3"
  },
  "language_info": {
   "codemirror_mode": {
    "name": "ipython",
    "version": 3
   },
   "file_extension": ".py",
   "mimetype": "text/x-python",
   "name": "python",
   "nbconvert_exporter": "python",
   "pygments_lexer": "ipython3",
   "version": "3.8.4"
  }
 },
 "nbformat": 4,
 "nbformat_minor": 4
}
