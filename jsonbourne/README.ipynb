{
 "cells": [
  {
   "cell_type": "markdown",
   "metadata": {},
   "source": [
    "# jsonbourne\n",
    "\n",
    "<img src=\"https://github.com/dynamic-graphics-inc/dgpy-libs/blob/master/_data/dgpy_logo.svg?raw=true\" alt=\"drawing\" width=\"120\"/> **Dynamic Graphics Python**\n",
    "\n",
    "[![Wheel](https://img.shields.io/pypi/wheel/jsonbourne.svg)](https://img.shields.io/pypi/wheel/jsonbourne.svg)\n",
    "[![Version](https://img.shields.io/pypi/v/jsonbourne.svg)](https://img.shields.io/pypi/v/jsonbourne.svg)\n",
    "[![py_versions](https://img.shields.io/pypi/pyversions/jsonbourne.svg)](https://img.shields.io/pypi/pyversions/jsonbourne.svg)\n",
    "[![Code style: black](https://img.shields.io/badge/code%20style-black-000000.svg)](https://github.com/psf/black)\n",
    "\n",
    "**Install:** `pip install jsonbourne`\n",
    "\n",
    "___\n",
    "\n",
    "## Who? What? Where? When? Why?\n",
    "\n",
    "**WHO???** Secret agent Json Bourne\n",
    "\n",
    "**WHAT???** Python json lib/pkg that makes json feel a little bit more like the JSON module in javascript/typescript\n",
    "\n",
    "**WHERE???** Dynamic Graphics Inc\n",
    "\n",
    "**WHEN???** 9 => 5 on workdays\n",
    "\n",
    "**WHY???** Three reasons: **1)** Why not? **2)** Also I (jessekrubin) wanted a python object that was a hybrid between a dictionary and an python-object that worked kinda like a js object. **3)** Was able to get `jsonbourne` on pip\n",
    "\n",
    "**HOW???** Python! NOTE: I tried to make the actual internals of the `jsonbourne.JsonObj` use list/dict comprehensions everywhere as an experiment."
   ]
  },
  {
   "cell_type": "markdown",
   "metadata": {},
   "source": [
    "___"
   ]
  },
  {
   "cell_type": "markdown",
   "metadata": {},
   "source": [
    "## Usage:\n",
    "\n",
    "### JSON ~ `from jsonbourne import JSON`\n",
    "\n",
    "**JSON basics:**"
   ]
  },
  {
   "cell_type": "code",
   "execution_count": 1,
   "metadata": {},
   "outputs": [
    {
     "data": {
      "text/plain": [
       "'{\"a\":1,\"b\":2,\"c\":3}'"
      ]
     },
     "execution_count": 1,
     "metadata": {},
     "output_type": "execute_result"
    }
   ],
   "source": [
    "from jsonbourne import JSON\n",
    "# or\n",
    "import JSON  # Which is included with jsonbourne\n",
    "string_stringify = JSON.stringify({\"a\":1, \"b\":2, \"c\":3})  # '{\"a\": 1, \"b\": 2, \"c\": 3}'\n",
    "string_dumps = JSON.dumps({\"a\":1, \"b\":2, \"c\":3})  # '{\"a\": 1, \"b\": 2, \"c\": 3}'\n",
    "string_dumps"
   ]
  },
  {
   "cell_type": "markdown",
   "metadata": {},
   "source": [
    "#### JSON option kwargs ~ `pretty` & `sort_keys`\n",
    "\n",
    "**pretty:**"
   ]
  },
  {
   "cell_type": "code",
   "execution_count": 2,
   "metadata": {},
   "outputs": [
    {
     "name": "stdout",
     "output_type": "stream",
     "text": [
      "{\n",
      "  \"b\": 2,\n",
      "  \"a\": 1,\n",
      "  \"c\": 3\n",
      "}\n"
     ]
    }
   ],
   "source": [
    "string_dumps = JSON.stringify({\"b\":2, \"a\":1, \"c\":3}, pretty=True)  # '{\"a\": 1, \"b\": 2, \"c\": 3}'\n",
    "print(string_dumps)"
   ]
  },
  {
   "cell_type": "markdown",
   "metadata": {},
   "source": [
    "**sort_keys:**"
   ]
  },
  {
   "cell_type": "code",
   "execution_count": 3,
   "metadata": {},
   "outputs": [
    {
     "name": "stdout",
     "output_type": "stream",
     "text": [
      "{\n",
      "  \"a\": 1,\n",
      "  \"b\": 2,\n",
      "  \"c\": 3\n",
      "}\n"
     ]
    }
   ],
   "source": [
    "string_dumps = JSON.stringify({\"b\":2, \"a\":1, \"c\":3}, pretty=True, sort_keys=True)  # '{\"a\": 1, \"b\": 2, \"c\": 3}'\n",
    "print(string_dumps)"
   ]
  },
  {
   "cell_type": "markdown",
   "metadata": {},
   "source": [
    "### JsonObj & JSON\n",
    "\n",
    "- Python dictionary/object with dot access\n",
    "- Create a `jsonbourne.JsonObj` with `jsonbourne.JSON`\n",
    "- Recurses into sub lists/dictionaries\n",
    "- Works with `pydantic.BaseModel` and `attrs`\n",
    "- Allows for kwarging (`**json_obj`)\n"
   ]
  },
  {
   "cell_type": "code",
   "execution_count": 4,
   "metadata": {},
   "outputs": [
    {
     "data": {
      "text/html": [
       "<pre>JsonObj(**{\n",
       "    'dt': datetime.datetime(1970, 1, 1, 0, 0, 0, 1),\n",
       "    'key': 'value',\n",
       "    'list': [1, 2, 3, 4, 5],\n",
       "    'sub': {'a': 1, 'b': 3, 'key': 'val'},\n",
       "    'timedelta': datetime.timedelta(days=2)\n",
       "})</pre>"
      ],
      "text/plain": [
       "JsonObj(**{'key': 'value', 'list': [1, 2, 3, 4, 5], 'dt': datetime.datetime(1970, 1, 1, 0, 0, 0, 1), 'sub': {'b': 3, 'key': 'val', 'a': 1}, 'timedelta': datetime.timedelta(days=2)})"
      ]
     },
     "execution_count": 4,
     "metadata": {},
     "output_type": "execute_result"
    }
   ],
   "source": [
    "import datetime\n",
    "\n",
    "data = {\n",
    "    \"key\": \"value\",\n",
    "    \"list\": [1, 2, 3, 4, 5],\n",
    "    \"dt\": datetime.datetime(1970, 1, 1, 0, 0, 0, 1),\n",
    "    \"sub\": {'b': 3, 'key': 'val', 'a': 1,},\n",
    "    \"timedelta\": datetime.timedelta(days=2),\n",
    "}\n",
    "\n",
    "JSON(data)"
   ]
  },
  {
   "cell_type": "markdown",
   "metadata": {},
   "source": [
    "### Dot access"
   ]
  },
  {
   "cell_type": "code",
   "execution_count": 5,
   "metadata": {},
   "outputs": [
    {
     "data": {
      "text/plain": [
       "3"
      ]
     },
     "execution_count": 5,
     "metadata": {},
     "output_type": "execute_result"
    }
   ],
   "source": [
    "JSON(data).sub.b"
   ]
  },
  {
   "cell_type": "code",
   "execution_count": 6,
   "metadata": {},
   "outputs": [
    {
     "name": "stdout",
     "output_type": "stream",
     "text": [
      "{\n",
      "  \"key\": \"value\",\n",
      "  \"list\": [\n",
      "    1,\n",
      "    2,\n",
      "    3,\n",
      "    4,\n",
      "    5\n",
      "  ],\n",
      "  \"dt\": \"1970-01-01T00:00:00.000001\",\n",
      "  \"sub\": {\n",
      "    \"b\": 3,\n",
      "    \"key\": \"val\",\n",
      "    \"a\": 1\n",
      "  },\n",
      "  \"timedelta\": 172800.0\n",
      "}\n"
     ]
    }
   ],
   "source": [
    "stringified_data = JSON(data).stringify(pretty=True)\n",
    "print(stringified_data)"
   ]
  },
  {
   "cell_type": "code",
   "execution_count": 7,
   "metadata": {},
   "outputs": [
    {
     "data": {
      "text/html": [
       "<pre>JsonObj(**{\n",
       "    'dt': '1970-01-01T00:00:00.000001',\n",
       "    'key': 'value',\n",
       "    'list': [1, 2, 3, 4, 5],\n",
       "    'sub': {'a': 1, 'b': 3, 'key': 'val'},\n",
       "    'timedelta': 172800.0\n",
       "})</pre>"
      ],
      "text/plain": [
       "JsonObj(**{'key': 'value', 'list': [1, 2, 3, 4, 5], 'dt': '1970-01-01T00:00:00.000001', 'sub': {'b': 3, 'key': 'val', 'a': 1}, 'timedelta': 172800.0})"
      ]
     },
     "execution_count": 7,
     "metadata": {},
     "output_type": "execute_result"
    }
   ],
   "source": [
    "parsed_data = JSON(stringified_data)\n",
    "parsed_data"
   ]
  },
  {
   "cell_type": "code",
   "execution_count": 8,
   "metadata": {},
   "outputs": [
    {
     "data": {
      "text/plain": [
       "['key', 'list', 'dt', 'sub', 'timedelta']"
      ]
     },
     "execution_count": 8,
     "metadata": {},
     "output_type": "execute_result"
    }
   ],
   "source": [
    "list(parsed_data.keys())"
   ]
  },
  {
   "cell_type": "code",
   "execution_count": 9,
   "metadata": {},
   "outputs": [
    {
     "data": {
      "text/plain": [
       "[('key', 'value'),\n",
       " ('list', [1, 2, 3, 4, 5]),\n",
       " ('dt', '1970-01-01T00:00:00.000001'),\n",
       " ('sub', JsonObj(**{'b': 3, 'key': 'val', 'a': 1})),\n",
       " ('timedelta', 172800.0)]"
      ]
     },
     "execution_count": 9,
     "metadata": {},
     "output_type": "execute_result"
    }
   ],
   "source": [
    "list(parsed_data.items())"
   ]
  },
  {
   "cell_type": "code",
   "execution_count": 10,
   "metadata": {},
   "outputs": [
    {
     "data": {
      "text/plain": [
       "['key', 'list', 'dt', 'sub.b', 'sub.key', 'sub.a', 'timedelta']"
      ]
     },
     "execution_count": 10,
     "metadata": {},
     "output_type": "execute_result"
    }
   ],
   "source": [
    "list(parsed_data.dot_keys())"
   ]
  },
  {
   "cell_type": "code",
   "execution_count": 11,
   "metadata": {},
   "outputs": [
    {
     "data": {
      "text/plain": [
       "[('key', 'value'),\n",
       " ('list', [1, 2, 3, 4, 5]),\n",
       " ('dt', '1970-01-01T00:00:00.000001'),\n",
       " ('sub.b', 3),\n",
       " ('sub.key', 'val'),\n",
       " ('sub.a', 1),\n",
       " ('timedelta', 172800.0)]"
      ]
     },
     "execution_count": 11,
     "metadata": {},
     "output_type": "execute_result"
    }
   ],
   "source": [
    "list(parsed_data.dot_items())"
   ]
  },
  {
   "cell_type": "code",
   "execution_count": 12,
   "metadata": {},
   "outputs": [
    {
     "data": {
      "text/plain": [
       "'val'"
      ]
     },
     "execution_count": 12,
     "metadata": {},
     "output_type": "execute_result"
    }
   ],
   "source": [
    "parsed_data['sub.key']"
   ]
  },
  {
   "cell_type": "code",
   "execution_count": 13,
   "metadata": {},
   "outputs": [
    {
     "data": {
      "text/plain": [
       "'val'"
      ]
     },
     "execution_count": 13,
     "metadata": {},
     "output_type": "execute_result"
    }
   ],
   "source": [
    "parsed_data.dot_lookup('sub.key')"
   ]
  },
  {
   "cell_type": "code",
   "execution_count": 14,
   "metadata": {},
   "outputs": [
    {
     "data": {
      "text/plain": [
       "{'key': 'value',\n",
       " 'list': [1, 2, 3, 4, 5],\n",
       " 'dt': '1970-01-01T00:00:00.000001',\n",
       " 'sub': JsonObj(**{'b': 3, 'key': 'val', 'a': 1}),\n",
       " 'timedelta': 172800.0}"
      ]
     },
     "execution_count": 14,
     "metadata": {},
     "output_type": "execute_result"
    }
   ],
   "source": [
    "{**parsed_data}"
   ]
  },
  {
   "cell_type": "code",
   "execution_count": 15,
   "metadata": {},
   "outputs": [
    {
     "data": {
      "text/plain": [
       "{'key': 'value',\n",
       " 'list': [1, 2, 3, 4, 5],\n",
       " 'dt': '1970-01-01T00:00:00.000001',\n",
       " 'sub': {'b': 3, 'key': 'val', 'a': 1},\n",
       " 'timedelta': 172800.0}"
      ]
     },
     "execution_count": 15,
     "metadata": {},
     "output_type": "execute_result"
    }
   ],
   "source": [
    "# fully eject\n",
    "parsed_data.eject()"
   ]
  },
  {
   "cell_type": "markdown",
   "metadata": {},
   "source": [
    "### Usage with pydantic"
   ]
  },
  {
   "cell_type": "code",
   "execution_count": 16,
   "metadata": {},
   "outputs": [
    {
     "data": {
      "text/html": [
       "<pre>JsonObjModel(**{\n",
       "    'a': 1, 'b': 2, 'c': 'herm', 'd': JsonObj(**{'nested': 'nestedval'}), 'e': JsonSubObj(herm=2)\n",
       "})</pre>"
      ],
      "text/plain": [
       "JsonObjModel(a=1, b=2, c='herm', d=JsonObj(**{'nested': 'nestedval'}), e=JsonSubObj(herm=2))"
      ]
     },
     "execution_count": 16,
     "metadata": {},
     "output_type": "execute_result"
    }
   ],
   "source": [
    "from jsonbourne import JsonObj\n",
    "from jsonbourne.pydantic import JsonBaseModel\n",
    "class JsonSubObj(JsonBaseModel):\n",
    "    herm: int\n",
    "\n",
    "    def to_dict(self):\n",
    "        return self.dict()\n",
    "\n",
    "    def to_json(self, *args, **kwargs):\n",
    "        return self.json()\n",
    "\n",
    "    @classmethod\n",
    "    def from_json(cls, json_string: str):\n",
    "        return JsonSubObj(json.loads(json_string))\n",
    "\n",
    "class JsonObjModel(JsonBaseModel):\n",
    "    a: int\n",
    "    b: int\n",
    "    c: str\n",
    "    d: JsonObj\n",
    "    e: JsonSubObj\n",
    "\n",
    "    #\n",
    "    @property\n",
    "    def a_property(self) -> str:\n",
    "        return \"prop_value\"\n",
    "\n",
    "    def to_json(self, *args, **kwargs):\n",
    "        return self.json()\n",
    "\n",
    "    @classmethod\n",
    "    def from_json(cls, json_string: str):\n",
    "        return cls(**json.loads(json_string))\n",
    "\n",
    "obj = JsonObjModel(\n",
    "    **{\"a\": 1, \"b\": 2, \"c\": \"herm\", \"d\": {\"nested\": \"nestedval\"}, \"e\": {\"herm\": 2}}\n",
    ")\n",
    "obj"
   ]
  },
  {
   "cell_type": "code",
   "execution_count": 17,
   "metadata": {},
   "outputs": [
    {
     "data": {
      "text/plain": [
       "'prop_value'"
      ]
     },
     "execution_count": 17,
     "metadata": {},
     "output_type": "execute_result"
    }
   ],
   "source": [
    "# respects properties (which I don't think pydantic does(currently))\n",
    "obj.a_property"
   ]
  },
  {
   "cell_type": "markdown",
   "metadata": {},
   "source": [
    "___"
   ]
  },
  {
   "cell_type": "markdown",
   "metadata": {},
   "source": [
    "## JSON backend/lib\n",
    "\n",
    "**`jsonbourne` finds the best json-lib (python-rapidjson/orjson) it can!** On import `jsonbourne` gets to\n",
    "work spying on your python env. `jsonbourne`, the most highly qualified json-CIA-agent, will import the best\n",
    "python-json library it can find; if `jsonbourne`'s cover is blown (meaning: the\n",
    "only json library found is the python stdlib json), `jsonbourne` will fallback\n",
    "to\n",
    "the python stdlib json.\n",
    "\n",
    "`jsonbourne` will look for the following json-packages in the following order:\n",
    "\n",
    "  1) `rapidjson`\n",
    "  2) `orjson`\n",
    "\n",
    "### Custom lib preferences"
   ]
  },
  {
   "cell_type": "code",
   "execution_count": 18,
   "metadata": {},
   "outputs": [
    {
     "name": "stdout",
     "output_type": "stream",
     "text": [
      "<class 'jsonbourne.jsonlib._rapidjson.RAPIDJSON'>\n",
      "{\"a\":1,\"b\":2,\"c\":3}\n"
     ]
    }
   ],
   "source": [
    "from jsonbourne import import_json\n",
    "json = import_json((\"rapidjson\", \"orjson\"))  # prefer rapidjson over orjson\n",
    "string = json.dumps({\"a\":1, \"b\":2, \"c\":3})\n",
    "print(json)\n",
    "print(string)"
   ]
  },
  {
   "cell_type": "markdown",
   "metadata": {},
   "source": [
    "### Installing better JSON lib:\n",
    "\n",
    "#### `orjson`\n",
    "\n",
    "- `pip install orjson` [pip]\n",
    "\n",
    "#### `rapidjson`/`python-rapidjson`\n",
    "\n",
    "- `pip install python-rapidjson` [pip]\n",
    "- `conda install -c anaconda python-rapidjson` [conda anaconda/defaults]\n",
    "- `conda install -c conda-forge python-rapidjson` [conda-forge]\n"
   ]
  },
  {
   "cell_type": "code",
   "execution_count": null,
   "metadata": {},
   "outputs": [],
   "source": []
  }
 ],
 "metadata": {
  "kernelspec": {
   "display_name": "Python 3",
   "language": "python",
   "name": "python3"
  },
  "language_info": {
   "codemirror_mode": {
    "name": "ipython",
    "version": 3
   },
   "file_extension": ".py",
   "mimetype": "text/x-python",
   "name": "python",
   "nbconvert_exporter": "python",
   "pygments_lexer": "ipython3",
   "version": "3.8.2"
  }
 },
 "nbformat": 4,
 "nbformat_minor": 4
}