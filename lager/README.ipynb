{
 "cells": [
  {
   "cell_type": "markdown",
   "metadata": {},
   "source": [
    "# Lager :beer:\n",
    "\n",
    "<img src=\"https://github.com/dynamic-graphics-inc/dgpy-libs/blob/master/_data/dgpy_logo.svg?raw=true\" alt=\"drawing\" width=\"120\"/> **Dynamic Graphics Python**\n",
    "\n",
    "[![Wheel](https://img.shields.io/pypi/wheel/lager.svg)](https://img.shields.io/pypi/wheel/lager.svg)\n",
    "[![Version](https://img.shields.io/pypi/v/lager.svg)](https://img.shields.io/pypi/v/lager.svg)\n",
    "[![py_versions](https://img.shields.io/pypi/pyversions/lager.svg)](https://img.shields.io/pypi/pyversions/lager.svg)\n",
    "[![Code style: black](https://img.shields.io/badge/code%20style-black-000000.svg)](https://github.com/psf/black)\n",
    "\n",
    "**Install:** `pip install lager`\n",
    "\n",
    "___\n",
    "\n",
    "## Who? What? Where? When? Why?\n",
    "\n",
    "**WHO???** Me\n",
    "\n",
    "**WHAT???** Logging utils/tools for dgpy\n",
    "\n",
    "**WHERE???** Dynamic Graphics Inc in this repo\n",
    "\n",
    "**WHEN???** 9 => 5 on workdays\n",
    "\n",
    "**WHY???** The name. Mostly the name. Lager is a python logging package module created primarily because of how fantastic the name is; lager really provides several utility functions/extensions for loguru (which is an AMAZING lib).\n",
    "\n",
    "___\n",
    "\n",
    "## Usage:\n",
    "\n",
    "\n"
   ]
  },
  {
   "cell_type": "code",
   "execution_count": 1,
   "metadata": {},
   "outputs": [
    {
     "name": "stderr",
     "output_type": "stream",
     "text": [
      "2020-07-09 16:57:10.653 | INFO     | __main__:<module>:2 - info\n",
      "2020-07-09 16:57:10.655 | INFO     | __main__:<module>:3 - info\n"
     ]
    }
   ],
   "source": [
    "from lager import LOG\n",
    "LOG.info('info')\n",
    "LOG.i('info')"
   ]
  }
 ],
 "metadata": {
  "kernelspec": {
   "display_name": "Python 3",
   "language": "python",
   "name": "python3"
  },
  "language_info": {
   "codemirror_mode": {
    "name": "ipython",
    "version": 3
   },
   "file_extension": ".py",
   "mimetype": "text/x-python",
   "name": "python",
   "nbconvert_exporter": "python",
   "pygments_lexer": "ipython3",
   "version": "3.8.2"
  }
 },
 "nbformat": 4,
 "nbformat_minor": 4
}
