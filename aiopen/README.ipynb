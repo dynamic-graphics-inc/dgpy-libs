{
 "cells": [
  {
   "cell_type": "markdown",
   "metadata": {},
   "source": [
    "# aiopen\n",
    "\n",
    "<img src=\"https://github.com/dynamic-graphics-inc/dgpy-libs/blob/master/_data/dgpy_banner.svg?raw=true\" alt=\"drawing\" width=\"320\"/>\n",
    "\n",
    "[![Wheel](https://img.shields.io/pypi/wheel/aiopen.svg)](https://img.shields.io/pypi/wheel/aiopen.svg)\n",
    "[![Version](https://img.shields.io/pypi/v/aiopen.svg)](https://img.shields.io/pypi/v/aiopen.svg)\n",
    "[![py_versions](https://img.shields.io/pypi/pyversions/aiopen.svg)](https://img.shields.io/pypi/pyversions/aiopen.svg)\n",
    "[![Code style: black](https://img.shields.io/badge/code%20style-black-000000.svg)](https://github.com/psf/black)\n",
    "\n",
    "**Install:** `pip install aiopen`\n",
    "\n",
    "___\n",
    "\n",
    "## Who? What? Where? When? Why?\n",
    "\n",
    "**WHO???** The dgpy team and the people who wrote aiofiles which is the basis for aiopen\n",
    "\n",
    "**WHAT???** Asyncio open for python36 and up\n",
    "\n",
    "**WHERE???** Dynamic Graphics Inc in this repo\n",
    "\n",
    "**WHEN???** 9 => 5 on workdays\n",
    "\n",
    "**WHY???** Three reasons: **1)** I have used the pip package aiofiles (`pip install aiofiles`) quite a bit, and I wanted a more type-annotation-friendly version of aiofiles **2)** aiopen uses funkify (`pip install funkify`) so the imported is callable as `aiopen` (see examples below) **3)** Async file io with out ye ole `@coroutine` decorator; Aiofiles supportes python3.5 which is dark-ages async-python.\n",
    "\n",
    "(Big shouts out to the aiofiles people, aiopen is entirely based off of aiofiles)\n"
   ]
  },
  {
   "cell_type": "markdown",
   "metadata": {},
   "source": [
    "___"
   ]
  },
  {
   "cell_type": "markdown",
   "metadata": {
    "pycharm": {
     "name": "#%% md\n"
    }
   },
   "source": [
    "## Usage:\n",
    "\n",
    "Just import it! The module is also callable!"
   ]
  },
  {
   "cell_type": "code",
   "execution_count": 1,
   "metadata": {
    "pycharm": {
     "name": "#%% md\n"
    }
   },
   "outputs": [
    {
     "name": "stdout",
     "output_type": "stream",
     "text": [
      "some text!\n"
     ]
    }
   ],
   "source": [
    "import aiopen\n",
    "\n",
    "async with aiopen('afile.txt', 'w') as f:\n",
    "    await f.write('some text!')\n",
    "\n",
    "async with aiopen('afile.txt', 'r') as f:\n",
    "    content = await f.read()\n",
    "    print(content)\n"
   ]
  }
 ],
 "metadata": {
  "kernelspec": {
   "display_name": "Python 3",
   "language": "python",
   "name": "python3"
  },
  "language_info": {
   "codemirror_mode": {
    "name": "ipython",
    "version": 3
   },
   "file_extension": ".py",
   "mimetype": "text/x-python",
   "name": "python",
   "nbconvert_exporter": "python",
   "pygments_lexer": "ipython3",
   "version": "3.8.4"
  }
 },
 "nbformat": 4,
 "nbformat_minor": 4
}
