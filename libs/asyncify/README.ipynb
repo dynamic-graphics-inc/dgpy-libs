{
 "cells": [
  {
   "cell_type": "markdown",
   "metadata": {
    "pycharm": {
     "name": "#%% md\n"
    }
   },
   "source": [
    "<a href=\"https://github.com/dynamic-graphics-inc/dgpy-libs\">\n",
    "<img align=\"right\" src=\"https://github.com/dynamic-graphics-inc/dgpy-libs/blob/master/_data/dgpy_banner.svg?raw=true\" alt=\"drawing\" height=\"120\"/>\n",
    "</a>\n",
    "\n",
    "# asyncify\n",
    "\n",
    "[![Wheel](https://img.shields.io/pypi/wheel/asyncify.svg)](https://img.shields.io/pypi/wheel/asyncify.svg)\n",
    "[![Version](https://img.shields.io/pypi/v/asyncify.svg)](https://img.shields.io/pypi/v/asyncify.svg)\n",
    "[![py_versions](https://img.shields.io/pypi/pyversions/asyncify.svg)](https://img.shields.io/pypi/pyversions/asyncify.svg)\n",
    "[![Code style: black](https://img.shields.io/badge/code%20style-black-000000.svg)](https://github.com/psf/black)\n",
    "\n",
    "**TLDR:** Sync 2 Async decorator\n",
    "\n",
    "**Install:** `pip install asyncify`\n",
    "\n",
    "**Usage:**\n"
   ]
  },
  {
   "cell_type": "code",
   "execution_count": 1,
   "metadata": {},
   "outputs": [],
   "source": [
    "import asyncify \n",
    "# OR\n",
    "from asyncify import asyncify\n",
    "from asyncify import run  # asyncio.run polyfill for python36\n",
    "\n",
    "def add(a, b):\n",
    "    return a + b\n",
    "\n",
    "assert add(1, 2) == 3\n",
    "\n",
    "@asyncify\n",
    "def add_async(a, b):\n",
    "    return a + b\n",
    "\n",
    "res = await add_async(1, 2)\n",
    "assert res == 3"
   ]
  }
 ],
 "metadata": {
  "kernelspec": {
   "display_name": "Python 3",
   "language": "python",
   "name": "python3"
  },
  "language_info": {
   "codemirror_mode": {
    "name": "ipython",
    "version": 3
   },
   "file_extension": ".py",
   "mimetype": "text/x-python",
   "name": "python",
   "nbconvert_exporter": "python",
   "pygments_lexer": "ipython3",
   "version": "3.8.5"
  }
 },
 "nbformat": 4,
 "nbformat_minor": 4
}
