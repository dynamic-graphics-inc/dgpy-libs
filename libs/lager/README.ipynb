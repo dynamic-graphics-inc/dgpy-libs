{
 "cells": [
  {
   "cell_type": "markdown",
   "metadata": {},
   "source": [
    "\n",
    "<a href=\"https://github.com/dynamic-graphics-inc/dgpy-libs\">\n",
    "<img align=\"right\" src=\"https://github.com/dynamic-graphics-inc/dgpy-libs/blob/main/docs/images/dgpy_banner.svg?raw=true\" alt=\"drawing\" height=\"120\" width=\"300\"/>\n",
    "</a>\n",
    "\n",
    "\n",
    "# Lager :beer:\n",
    "\n",
    "\n",
    "[![Wheel](https://img.shields.io/pypi/wheel/lager.svg)](https://img.shields.io/pypi/wheel/lager.svg)\n",
    "[![Version](https://img.shields.io/pypi/v/lager.svg)](https://img.shields.io/pypi/v/lager.svg)\n",
    "[![py_versions](https://img.shields.io/pypi/pyversions/lager.svg)](https://img.shields.io/pypi/pyversions/lager.svg)\n",
    "[![Code style: black](https://img.shields.io/badge/code%20style-black-000000.svg)](https://github.com/psf/black)\n",
    "\n",
    "**Install:** `pip install lager`\n",
    "\n",
    "Logging library based off of loguru (`pip install loguru`).\n",
    "\n",
    "**Why not just use loguru?**\n",
    "\n",
    " - Lager is a better pun\n",
    " - Lager is really a utility pack for loguru\n",
    "\n",
    "BTW: Loguru is an amazing lib. Check it out: https://github.com/Delgan/loguru\n",
    "\n",
    "## Usage:\n"
   ]
  },
  {
   "cell_type": "code",
   "execution_count": 1,
   "metadata": {},
   "outputs": [
    {
     "name": "stderr",
     "output_type": "stream",
     "text": [
      "2020-07-09 16:57:10.653 | INFO     | __main__:<module>:2 - info\n",
      "2020-07-09 16:57:10.655 | INFO     | __main__:<module>:3 - info\n"
     ]
    }
   ],
   "source": [
    "from lager import LOG, lager, LAGER, log, logger  # All the same object\n",
    "\n",
    "LOG.info(\"info\")"
   ]
  }
 ],
 "metadata": {
  "kernelspec": {
   "display_name": "Python 3",
   "language": "python",
   "name": "python3"
  },
  "language_info": {
   "codemirror_mode": {
    "name": "ipython",
    "version": 3
   },
   "file_extension": ".py",
   "mimetype": "text/x-python",
   "name": "python",
   "nbconvert_exporter": "python",
   "pygments_lexer": "ipython3",
   "version": "3.8.4"
  }
 },
 "nbformat": 4,
 "nbformat_minor": 4
}
