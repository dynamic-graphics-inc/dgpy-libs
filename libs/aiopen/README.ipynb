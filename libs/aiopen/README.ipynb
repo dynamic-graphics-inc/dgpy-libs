{
 "cells": [
  {
   "cell_type": "markdown",
   "metadata": {
    "pycharm": {
     "name": "#%% md\n"
    }
   },
   "source": [
    "<a href=\"https://github.com/dynamic-graphics-inc/dgpy-libs\">\n",
    "<img align=\"right\" src=\"https://github.com/dynamic-graphics-inc/dgpy-libs/blob/master/_data/dgpy_banner.svg?raw=true\" alt=\"drawing\" height=\"120\"/>\n",
    "</a>\n",
    "\n",
    "# aiopen\n",
    "\n",
    "[![Wheel](https://img.shields.io/pypi/wheel/aiopen.svg)](https://img.shields.io/pypi/wheel/aiopen.svg)\n",
    "[![Version](https://img.shields.io/pypi/v/aiopen.svg)](https://img.shields.io/pypi/v/aiopen.svg)\n",
    "[![py_versions](https://img.shields.io/pypi/pyversions/aiopen.svg)](https://img.shields.io/pypi/pyversions/aiopen.svg)\n",
    "[![Code style: black](https://img.shields.io/badge/code%20style-black-000000.svg)](https://github.com/psf/black)\n",
    "\n",
    "**Install:** `pip install aiopen`\n",
    "\n",
    "Async-open\n",
    "\n",
    "**Why not use aiofiles?**\n",
    "\n",
    " - Wanted more type annotations\n",
    " - aiofiles uses ye ole `@coroutine` decorator -- aiopen uses python3.6+ `async/await`\n",
    " - aiopen is a callable module, so you can do:\n",
    " \t- `import aiopen`\n",
    " \t- `async with aiopen('afile.txt', 'w') as f: await f.write('some text!')`\n",
    " \t- `async with aiopen('afile.txt', 'r') as f: content = await f.read()`\n",
    "\n",
    "\n",
    "(Big shouts out to the aiofiles people, aiopen is entirely based off of aiofiles)\n",
    "\n",
    "\n",
    "## Usage:\n",
    "\n",
    "Just import it! The module is also callable!\n",
    "\n",
    "\n",
    "import aiopen\n",
    "\n",
    "async with aiopen('afile.txt', 'w') as f:\n",
    "    await f.write('some text!')\n",
    "\n",
    "async with aiopen('afile.txt', 'r') as f:\n",
    "    content = await f.read()\n",
    "    print(content)\n"
   ]
  }
 ],
 "metadata": {
  "kernelspec": {
   "display_name": "Python 3",
   "language": "python",
   "name": "python3"
  },
  "language_info": {
   "codemirror_mode": {
    "name": "ipython",
    "version": 3
   },
   "file_extension": ".py",
   "mimetype": "text/x-python",
   "name": "python",
   "nbconvert_exporter": "python",
   "pygments_lexer": "ipython3",
   "version": "3.8.4"
  }
 },
 "nbformat": 4,
 "nbformat_minor": 4
}