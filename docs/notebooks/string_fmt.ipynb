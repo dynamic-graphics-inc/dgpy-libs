{
 "cells": [
  {
   "cell_type": "markdown",
   "metadata": {},
   "source": [
    "## String Formatting\n",
    "\n",
    "In the old robot code and the pydevkit there is a function for surrounding a string in quotes named `qt` and looks something like:"
   ]
  },
  {
   "cell_type": "code",
   "execution_count": 1,
   "metadata": {},
   "outputs": [],
   "source": [
    "def qt(string):\n",
    "    return \"\\\"\" + string + \"\\\"\""
   ]
  },
  {
   "cell_type": "markdown",
   "metadata": {},
   "source": [
    "This is not the fastest way to format a string in python 3 nor is it the easiest to edit. A first revision would be to change the formatting of the string to use python's built in string-format method called `.format()` so that the code looks like:"
   ]
  },
  {
   "cell_type": "code",
   "execution_count": 2,
   "metadata": {},
   "outputs": [],
   "source": [
    "def qt(string):\n",
    "    return '\"{}\"'.format(string)"
   ]
  },
  {
   "cell_type": "markdown",
   "metadata": {},
   "source": [
    "The above code will be faster to run and to edit, and doesn't require the backslashes to escape the double quotes. The ultimate way to transform this code would be to turn it into:"
   ]
  },
  {
   "cell_type": "code",
   "execution_count": 3,
   "metadata": {},
   "outputs": [],
   "source": [
    "qt = '\"{}\"'.format"
   ]
  },
  {
   "cell_type": "markdown",
   "metadata": {},
   "source": [
    "See the pro tip below\n",
    "\n",
    "## Pro Tip\n",
    "\n",
    "Say you have to format something (which you might have to do all the time), and you define a function to format a string so it has hyphens around the original string:"
   ]
  },
  {
   "cell_type": "code",
   "execution_count": 4,
   "metadata": {},
   "outputs": [
    {
     "data": {
      "text/plain": [
       "'--sheldon--'"
      ]
     },
     "execution_count": 4,
     "metadata": {},
     "output_type": "execute_result"
    }
   ],
   "source": [
    "def hyphens(string):\n",
    "    return '--{}--'.format(string)\n",
    "\n",
    "hyphens(\"howdy\") # returns: \"--howdy--\"\n",
    "hyphens(\"sheldon\") # returns: \"--sheldon--\""
   ]
  },
  {
   "cell_type": "markdown",
   "metadata": {},
   "source": [
    "The super slick way of formatting this without having to define a new string is to python's format function alone:"
   ]
  },
  {
   "cell_type": "code",
   "execution_count": 5,
   "metadata": {},
   "outputs": [
    {
     "data": {
      "text/plain": [
       "'--sheldon--'"
      ]
     },
     "execution_count": 5,
     "metadata": {},
     "output_type": "execute_result"
    }
   ],
   "source": [
    "hyphens = '--{}--'.format\n",
    "\n",
    "hyphens(\"howdy\") # returns: \"--howdy--\"\n",
    "hyphens(\"sheldon\") # returns: \"--sheldon--\""
   ]
  }
 ],
 "metadata": {
  "kernelspec": {
   "display_name": "Python 3",
   "language": "python",
   "name": "python3"
  },
  "language_info": {
   "codemirror_mode": {
    "name": "ipython",
    "version": 3
   },
   "file_extension": ".py",
   "mimetype": "text/x-python",
   "name": "python",
   "nbconvert_exporter": "python",
   "pygments_lexer": "ipython3",
   "version": "3.8.4"
  }
 },
 "nbformat": 4,
 "nbformat_minor": 4
}
