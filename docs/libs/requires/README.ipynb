{
 "cells": [
  {
   "cell_type": "markdown",
   "metadata": {},
   "source": [
    "<a href=\"https://github.com/dynamic-graphics-inc/dgpy-libs\">\n",
    "<img align=\"right\" src=\"https://github.com/dynamic-graphics-inc/dgpy-libs/blob/main/docs/images/dgpy_banner.svg?raw=true\" alt=\"drawing\" height=\"120\" width=\"300\"/>\n",
    "</a>\n",
    "\n",
    "\n",
    "# requires\n",
    "\n",
    "\n",
    "[![Wheel](https://img.shields.io/pypi/wheel/requires.svg)](https://img.shields.io/pypi/wheel/requires.svg)\n",
    "[![Version](https://img.shields.io/pypi/v/requires.svg)](https://img.shields.io/pypi/v/requires.svg)\n",
    "[![py_versions](https://img.shields.io/pypi/pyversions/requires.svg)](https://img.shields.io/pypi/pyversions/requires.svg)\n",
    "[![Code style: black](https://img.shields.io/badge/code%20style-black-000000.svg)](https://github.com/psf/black)\n",
    "\n",
    "**Install:** `pip install requires`\n",
    "\n",
    "Decorate that lets you\n",
    "Require/Import dependencies at runtime.\n",
    "\n",
    "Python dependency management can be mind bottlingly complex. Optional dependencies are pretty common. Why not require the dependency at run time if a function requires said dependency?\n",
    "\n",
    "This package has come in handy in lambda-land where you only get 250mb (on aws)!"
   ]
  },
  {
   "cell_type": "markdown",
   "metadata": {},
   "source": [
    "___"
   ]
  },
  {
   "cell_type": "markdown",
   "metadata": {
    "pycharm": {
     "name": "#%% md\n"
    }
   },
   "source": [
    "## Usage:\n"
   ]
  },
  {
   "cell_type": "code",
   "execution_count": 1,
   "metadata": {},
   "outputs": [
    {
     "name": "stdout",
     "output_type": "stream",
     "text": [
      "Error: name 'json' is not defined\n"
     ]
    }
   ],
   "source": [
    "# This will fail\n",
    "def uno():\n",
    "    return json.dumps({'a': 1, 'b': 2})\n",
    "\n",
    "try:\n",
    "    uno()\n",
    "except NameError as ne:\n",
    "    print(\"Error:\", ne)"
   ]
  },
  {
   "cell_type": "code",
   "execution_count": 2,
   "metadata": {},
   "outputs": [
    {
     "data": {
      "text/plain": [
       "'{\"a\": 1, \"b\": 2}'"
      ]
     },
     "execution_count": 2,
     "metadata": {},
     "output_type": "execute_result"
    }
   ],
   "source": [
    "# This will not fail\n",
    "import requires  # Module is callable! (checkout funkify for more info -- `pip install funkify`)\n",
    "\n",
    "@requires('json')\n",
    "def uno():\n",
    "    return json.dumps({'a': 1, 'b': 2})\n",
    "\n",
    "uno()"
   ]
  },
  {
   "cell_type": "code",
   "execution_count": 3,
   "metadata": {},
   "outputs": [
    {
     "data": {
      "text/plain": [
       "'{\"a\": 1, \"b\": 2}'"
      ]
     },
     "execution_count": 3,
     "metadata": {},
     "output_type": "execute_result"
    }
   ],
   "source": [
    "import requires\n",
    "\n",
    "@requires('from json import dumps')\n",
    "def uno():\n",
    "    return dumps({'a': 1, 'b': 2})\n",
    "\n",
    "uno()"
   ]
  },
  {
   "cell_type": "code",
   "execution_count": 4,
   "metadata": {},
   "outputs": [
    {
     "data": {
      "text/plain": [
       "'{\"a\": 1, \"b\": 2}'"
      ]
     },
     "execution_count": 4,
     "metadata": {},
     "output_type": "execute_result"
    }
   ],
   "source": [
    "def dos():\n",
    "    return dumps({'a': 1, 'b': 2})\n",
    "\n",
    "dos()"
   ]
  },
  {
   "cell_type": "code",
   "execution_count": 5,
   "metadata": {},
   "outputs": [
    {
     "data": {
      "text/plain": [
       "'{\"a\": 1, \"b\": 2}'"
      ]
     },
     "execution_count": 5,
     "metadata": {},
     "output_type": "execute_result"
    }
   ],
   "source": [
    "import requires\n",
    "\n",
    "@requires(_from='json', _import='dumps')\n",
    "def dos():\n",
    "    return dumps({'a': 1, 'b': 2})\n",
    "\n",
    "dos()"
   ]
  },
  {
   "cell_type": "code",
   "execution_count": 6,
   "metadata": {},
   "outputs": [
    {
     "data": {
      "text/plain": [
       "'{\"a\":1,\"b\":2}'"
      ]
     },
     "execution_count": 6,
     "metadata": {},
     "output_type": "execute_result"
    }
   ],
   "source": [
    "import requires\n",
    "\n",
    "@requires(_import='rapidjson', pip='python-rapidjson', conda_forge='python-rapidjson')\n",
    "def tres():\n",
    "    return rapidjson.dumps({'a': 1, 'b': 2})\n",
    "\n",
    "tres()  # Will err if not install with where to install instructions"
   ]
  },
  {
   "cell_type": "code",
   "execution_count": 7,
   "metadata": {},
   "outputs": [
    {
     "name": "stdout",
     "output_type": "stream",
     "text": [
      "ERROR: name 'path' is not defined\n"
     ]
    }
   ],
   "source": [
    "# should error\n",
    "def quatro():\n",
    "    return path.join('a', 'b')\n",
    "\n",
    "try:\n",
    "    quatro()\n",
    "except NameError as ne:\n",
    "    print(\"ERROR:\", ne)"
   ]
  },
  {
   "cell_type": "code",
   "execution_count": 10,
   "metadata": {},
   "outputs": [],
   "source": [
    "from requires import Requirement\n",
    "\n",
    "os_path_req = Requirement(_import='path', _from='os')\n",
    "\n",
    "@os_path_req\n",
    "def quatro():\n",
    "    return path.join('a', 'b')\n",
    "\n",
    "assert isinstance(quatro(), str)"
   ]
  },
  {
   "cell_type": "markdown",
   "metadata": {},
   "source": [
    "## Enforcing requirements"
   ]
  },
  {
   "cell_type": "code",
   "execution_count": 18,
   "metadata": {},
   "outputs": [
    {
     "name": "stdout",
     "output_type": "stream",
     "text": [
      "ERROR:\n",
      "Module/Package(s) not found/installed; could not import: `import alibrary`\n",
      "    pip install alibrary\n",
      "    conda install -c conda-forge alibrary-conda-listing\n",
      "    Install details\n"
     ]
    }
   ],
   "source": [
    "import requires\n",
    "\n",
    "try:\n",
    "    import alibrary\n",
    "except ModuleNotFoundError:\n",
    "    requirement = requires.Requirement(\n",
    "        _import='alibrary',\n",
    "        pip=True,\n",
    "        conda_forge='alibrary-conda-listing',\n",
    "        details=\"Install details\"\n",
    "    )\n",
    "try:\n",
    "    requirement.raise_error()\n",
    "except requires.RequirementError as err:\n",
    "    print(\"ERROR:\")\n",
    "    print(err)"
   ]
  },
  {
   "cell_type": "markdown",
   "metadata": {},
   "source": [
    "## Less verbose version:\n",
    "\n",
    "```python\n",
    "import requires\n",
    "\n",
    "try:\n",
    "    import alibrary\n",
    "except ModuleNotFoundError:\n",
    "    requires.Requirement(\n",
    "        _import='alibrary',\n",
    "        pip=True,\n",
    "        conda_forge='alibrary-conda-listing',\n",
    "        details=\"Install details\"\n",
    "    ).raise_error()\n",
    "```\n"
   ]
  },
  {
   "cell_type": "markdown",
   "metadata": {},
   "source": [
    "___\n",
    "\n",
    "## Future ideas?\n",
    "\n",
    " - Adding support for requiring particular package versions?\n",
    " - Auto install?\n",
    " - Allow non pip/conda/conda-forge locations?"
   ]
  }
 ],
 "metadata": {
  "kernelspec": {
   "display_name": "Python 3",
   "language": "python",
   "name": "python3"
  },
  "language_info": {
   "codemirror_mode": {
    "name": "ipython",
    "version": 3
   },
   "file_extension": ".py",
   "mimetype": "text/x-python",
   "name": "python",
   "nbconvert_exporter": "python",
   "pygments_lexer": "ipython3",
   "version": "3.8.5"
  }
 },
 "nbformat": 4,
 "nbformat_minor": 4
}
