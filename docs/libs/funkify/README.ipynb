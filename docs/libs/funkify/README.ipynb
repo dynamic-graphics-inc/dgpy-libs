{
 "cells": [
  {
   "cell_type": "markdown",
   "metadata": {
    "pycharm": {
     "name": "#%% md\n"
    }
   },
   "source": [
    "<a href=\"https://github.com/dynamic-graphics-inc/dgpy-libs\">\n",
    "<img align=\"right\" src=\"https://github.com/dynamic-graphics-inc/dgpy-libs/blob/master/docs/images/dgpy_banner.svg?raw=true\" alt=\"drawing\" height=\"120\" width=\"300\"/>\n",
    "</a>\n",
    "\n",
    "# funkify\n",
    "\n",
    "[![Wheel](https://img.shields.io/pypi/wheel/funkify.svg)](https://img.shields.io/pypi/wheel/funkify.svg)\n",
    "[![Version](https://img.shields.io/pypi/v/funkify.svg)](https://img.shields.io/pypi/v/funkify.svg)\n",
    "[![py_versions](https://img.shields.io/pypi/pyversions/funkify.svg)](https://img.shields.io/pypi/pyversions/funkify.svg)\n",
    "[![Code style: black](https://img.shields.io/badge/code%20style-black-000000.svg)](https://github.com/psf/black)\n",
    "\n",
    "**Install:** `pip install funkify`\n",
    "\n",
    "Make a module/package/script callable.\n",
    "\n",
    "## Usage:\n",
    "\n",
    "### 1) Write a file called `a_module.py` with some function and decorate said function with funkify\n",
    "\n",
    "```python\n",
    "import funkify\n",
    "\n",
    "@funkify\n",
    "def some_funk_name_doesnt_matter():\n",
    "\treturn 'howdy'\n",
    "\n",
    "```\n",
    "\n",
    "### 2) Import a_module and call it like you would a function!\n",
    "\n",
    "```python\n",
    "import a_module\n",
    "a_module.some_funk_name_doesnt_matter_what_it_is()  # returns 'howdy'\n",
    "a_module()  # ALSO returns 'howdy'\n",
    "```"
   ]
  }
 ],
 "metadata": {
  "kernelspec": {
   "display_name": "Python 3",
   "language": "python",
   "name": "python3"
  },
  "language_info": {
   "codemirror_mode": {
    "name": "ipython",
    "version": 3
   },
   "file_extension": ".py",
   "mimetype": "text/x-python",
   "name": "python",
   "nbconvert_exporter": "python",
   "pygments_lexer": "ipython3",
   "version": "3.8.4"
  }
 },
 "nbformat": 4,
 "nbformat_minor": 4
}