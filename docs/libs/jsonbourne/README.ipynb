{
 "cells": [
  {
   "cell_type": "markdown",
   "metadata": {},
   "source": [
    "<a href=\"https://github.com/dynamic-graphics-inc/dgpy-libs\">\n",
    "<img align=\"right\" src=\"https://github.com/dynamic-graphics-inc/dgpy-libs/blob/main/docs/images/dgpy_banner.svg?raw=true\" alt=\"drawing\" height=\"120\" width=\"300\"/>\n",
    "</a>\n",
    "\n",
    "# jsonbourne\n",
    "\n",
    "[![Wheel](https://img.shields.io/pypi/wheel/jsonbourne.svg)](https://img.shields.io/pypi/wheel/jsonbourne.svg)\n",
    "[![Version](https://img.shields.io/pypi/v/jsonbourne.svg)](https://img.shields.io/pypi/v/jsonbourne.svg)\n",
    "[![py_versions](https://img.shields.io/pypi/pyversions/jsonbourne.svg)](https://img.shields.io/pypi/pyversions/jsonbourne.svg)\n",
    "[![Code style: black](https://img.shields.io/badge/code%20style-black-000000.svg)](https://github.com/psf/black)\n",
    "\n",
    "**Install:** `pip install jsonbourne`\n",
    "\n",
    " - Python json lib/pkg that makes json feel like the JSON module in javascript/typescript:\n",
    "     - `from jsonbourne import JSON; JSON.parse(JSON.stringify({\"key\": \"value\"}))`\n",
    "     - Automatically uses best json-lib-backend available (`orjson`/`python-rapidjson`) ~ can be configured\n",
    " - Hybrid dict/class object (`jsonbourne.JsonObj`):\n",
    "     - Dot-notation getting/setting (featuring protected attributes!)\n",
    "     - All your favorite python dictionary methods (`items`, `keys`, `update`, `values`) and more!\n",
    "     - Works with `pydantic` and `attrs`\n",
    " - FastAPI:\n",
    "     - JSONBOURNEResponse ~ auto use the best\n",
    " - No hard dependencies ~ works with python-stdlib-json as well as `orjson` and `python-rapidjson`\n",
    " - `jsonbourne.JsonObj` uses list/dict comprehensions (some are recursive) everywhere because 'why not?' and it is a bit faster\n",
    "\n",
    "## Usage:\n",
    "\n",
    "### JSON ~ `from jsonbourne import JSON`\n",
    "\n",
    "**Importing:**"
   ]
  },
  {
   "cell_type": "code",
   "execution_count": 1,
   "metadata": {
    "collapsed": false,
    "jupyter": {
     "outputs_hidden": false
    },
    "pycharm": {
     "name": "#%%\n"
    }
   },
   "outputs": [],
   "source": [
    "# Importing JSON:\n",
    "\n",
    "# or\n",
    "import JSON\n",
    "\n",
    "# Importing jsonbourne:\n",
    "from jsonbourne import JSON"
   ]
  },
  {
   "cell_type": "markdown",
   "metadata": {},
   "source": [
    "**JSON basics:**"
   ]
  },
  {
   "cell_type": "code",
   "execution_count": 2,
   "metadata": {},
   "outputs": [
    {
     "data": {
      "text/plain": [
       "'{\"a\":1,\"b\":2,\"c\":3}'"
      ]
     },
     "execution_count": 2,
     "metadata": {},
     "output_type": "execute_result"
    }
   ],
   "source": [
    "string_stringify = JSON.stringify(\n",
    "    {\"a\": 1, \"b\": 2, \"c\": 3}\n",
    ")  # '{\"a\": 1, \"b\": 2, \"c\": 3}'\n",
    "string_dumps = JSON.dumps({\"a\": 1, \"b\": 2, \"c\": 3})  # '{\"a\": 1, \"b\": 2, \"c\": 3}'\n",
    "string_dumps"
   ]
  },
  {
   "cell_type": "markdown",
   "metadata": {},
   "source": [
    "#### JSON option kwargs ~ `pretty` & `sort_keys`\n",
    "\n",
    "**pretty:**"
   ]
  },
  {
   "cell_type": "code",
   "execution_count": 3,
   "metadata": {},
   "outputs": [
    {
     "name": "stdout",
     "output_type": "stream",
     "text": [
      "{\n",
      "  \"b\": 2,\n",
      "  \"a\": 1,\n",
      "  \"c\": 3\n",
      "}\n"
     ]
    }
   ],
   "source": [
    "string_dumps = JSON.stringify(\n",
    "    {\"b\": 2, \"a\": 1, \"c\": 3}, pretty=True\n",
    ")  # '{\"a\": 1, \"b\": 2, \"c\": 3}'\n",
    "print(string_dumps)"
   ]
  },
  {
   "cell_type": "markdown",
   "metadata": {},
   "source": [
    "**sort_keys:**"
   ]
  },
  {
   "cell_type": "code",
   "execution_count": 4,
   "metadata": {},
   "outputs": [
    {
     "name": "stdout",
     "output_type": "stream",
     "text": [
      "{\n",
      "  \"a\": 1,\n",
      "  \"b\": 2,\n",
      "  \"c\": 3\n",
      "}\n"
     ]
    }
   ],
   "source": [
    "string_dumps = JSON.stringify(\n",
    "    {\"b\": 2, \"a\": 1, \"c\": 3}, pretty=True, sort_keys=True\n",
    ")  # '{\"a\": 1, \"b\": 2, \"c\": 3}'\n",
    "print(string_dumps)"
   ]
  },
  {
   "cell_type": "markdown",
   "metadata": {},
   "source": [
    "### JsonObj & JSON\n",
    "\n",
    "- Python dictionary/object with dot access\n",
    "- Protections against setting class/obj attributes\n",
    "- Is as javascript-y as possible (keys have to be strings -- ints/floats will be converted to strings)\n",
    "- Create a `jsonbourne.JsonObj` with `jsonbourne.JSON`\n",
    "- Recursive jsonification\n",
    "- Allows for kwarging (`**json_obj`)\n",
    "- Works with `pydantic` and `attrs`\n",
    "\n",
    "#### Make an empty JsonObj\n",
    "\n",
    "The following 3 examples all produce the same thing\n",
    "\n",
    "```python\n",
    "from jsonbourne import JSON\n",
    "j = JSON()  # j => JsonObj(**{})\n",
    "# OR\n",
    "import JSON\n",
    "j = JSON()  # j => JsonObj(**{})\n",
    "# OR\n",
    "from jsonbourne import JsonObj\n",
    "j = JsonObj()  # j => JsonObj(**{})\n",
    "```\n",
    "\n",
    "#### From a dictionary o data"
   ]
  },
  {
   "cell_type": "code",
   "execution_count": 5,
   "metadata": {},
   "outputs": [
    {
     "data": {
      "text/html": [
       "<pre>JsonObj(**{\n",
       "    'dt': datetime.datetime(1970, 1, 1, 0, 0, 0, 1),\n",
       "    'key': 'value',\n",
       "    'list': [1, 2, 3, 4, 5],\n",
       "    'sub': {'a': 1, 'b': 3, 'key': 'val'},\n",
       "    'timedelta': datetime.timedelta(days=2)\n",
       "})</pre>"
      ],
      "text/plain": [
       "JsonObj(**{'key': 'value', 'list': [1, 2, 3, 4, 5], 'dt': datetime.datetime(1970, 1, 1, 0, 0, 0, 1), 'sub': {'b': 3, 'key': 'val', 'a': 1}, 'timedelta': datetime.timedelta(days=2)})"
      ]
     },
     "execution_count": 5,
     "metadata": {},
     "output_type": "execute_result"
    }
   ],
   "source": [
    "import datetime\n",
    "\n",
    "data = {\n",
    "    \"key\": \"value\",\n",
    "    \"list\": [1, 2, 3, 4, 5],\n",
    "    \"dt\": datetime.datetime(1970, 1, 1, 0, 0, 0, 1),\n",
    "    \"sub\": {\n",
    "        \"b\": 3,\n",
    "        \"key\": \"val\",\n",
    "        \"a\": 1,\n",
    "    },\n",
    "    \"timedelta\": datetime.timedelta(days=2),\n",
    "}\n",
    "\n",
    "JSON(data)"
   ]
  },
  {
   "cell_type": "markdown",
   "metadata": {},
   "source": [
    "### Dot access"
   ]
  },
  {
   "cell_type": "code",
   "execution_count": 6,
   "metadata": {},
   "outputs": [
    {
     "data": {
      "text/plain": [
       "3"
      ]
     },
     "execution_count": 6,
     "metadata": {},
     "output_type": "execute_result"
    }
   ],
   "source": [
    "JSON(data).sub.b"
   ]
  },
  {
   "cell_type": "code",
   "execution_count": 7,
   "metadata": {},
   "outputs": [
    {
     "name": "stdout",
     "output_type": "stream",
     "text": [
      "{\n",
      "  \"key\": \"value\",\n",
      "  \"list\": [\n",
      "    1,\n",
      "    2,\n",
      "    3,\n",
      "    4,\n",
      "    5\n",
      "  ],\n",
      "  \"dt\": \"1970-01-01T00:00:00.000001\",\n",
      "  \"sub\": {\n",
      "    \"b\": 3,\n",
      "    \"key\": \"val\",\n",
      "    \"a\": 1\n",
      "  },\n",
      "  \"timedelta\": 172800.0\n",
      "}\n"
     ]
    }
   ],
   "source": [
    "stringified_data = JSON(data).stringify(pretty=True)\n",
    "print(stringified_data)"
   ]
  },
  {
   "cell_type": "code",
   "execution_count": 8,
   "metadata": {},
   "outputs": [
    {
     "data": {
      "text/html": [
       "<pre>JsonObj(**{\n",
       "    'dt': '1970-01-01T00:00:00.000001',\n",
       "    'key': 'value',\n",
       "    'list': [1, 2, 3, 4, 5],\n",
       "    'sub': {'a': 1, 'b': 3, 'key': 'val'},\n",
       "    'timedelta': 172800.0\n",
       "})</pre>"
      ],
      "text/plain": [
       "JsonObj(**{'key': 'value', 'list': [1, 2, 3, 4, 5], 'dt': '1970-01-01T00:00:00.000001', 'sub': {'b': 3, 'key': 'val', 'a': 1}, 'timedelta': 172800.0})"
      ]
     },
     "execution_count": 8,
     "metadata": {},
     "output_type": "execute_result"
    }
   ],
   "source": [
    "parsed_data = JSON(stringified_data)\n",
    "parsed_data"
   ]
  },
  {
   "cell_type": "code",
   "execution_count": 9,
   "metadata": {},
   "outputs": [
    {
     "data": {
      "text/plain": [
       "['key', 'list', 'dt', 'sub', 'timedelta']"
      ]
     },
     "execution_count": 9,
     "metadata": {},
     "output_type": "execute_result"
    }
   ],
   "source": [
    "list(parsed_data.keys())"
   ]
  },
  {
   "cell_type": "code",
   "execution_count": 10,
   "metadata": {},
   "outputs": [
    {
     "data": {
      "text/plain": [
       "[('key', 'value'),\n",
       " ('list', [1, 2, 3, 4, 5]),\n",
       " ('dt', '1970-01-01T00:00:00.000001'),\n",
       " ('sub', JsonObj(**{'b': 3, 'key': 'val', 'a': 1})),\n",
       " ('timedelta', 172800.0)]"
      ]
     },
     "execution_count": 10,
     "metadata": {},
     "output_type": "execute_result"
    }
   ],
   "source": [
    "list(parsed_data.items())"
   ]
  },
  {
   "cell_type": "code",
   "execution_count": 11,
   "metadata": {},
   "outputs": [
    {
     "data": {
      "text/plain": [
       "[('key',),\n",
       " ('list',),\n",
       " ('dt',),\n",
       " ('sub', 'b'),\n",
       " ('sub', 'key'),\n",
       " ('sub', 'a'),\n",
       " ('timedelta',)]"
      ]
     },
     "execution_count": 11,
     "metadata": {},
     "output_type": "execute_result"
    }
   ],
   "source": [
    "list(parsed_data.dot_keys())"
   ]
  },
  {
   "cell_type": "code",
   "execution_count": 12,
   "metadata": {},
   "outputs": [
    {
     "data": {
      "text/plain": [
       "[(('key',), 'value'),\n",
       " (('list',), [1, 2, 3, 4, 5]),\n",
       " (('dt',), '1970-01-01T00:00:00.000001'),\n",
       " (('sub', 'b'), 3),\n",
       " (('sub', 'key'), 'val'),\n",
       " (('sub', 'a'), 1),\n",
       " (('timedelta',), 172800.0)]"
      ]
     },
     "execution_count": 12,
     "metadata": {},
     "output_type": "execute_result"
    }
   ],
   "source": [
    "list(parsed_data.dot_items())"
   ]
  },
  {
   "cell_type": "code",
   "execution_count": 13,
   "metadata": {},
   "outputs": [
    {
     "data": {
      "text/plain": [
       "'val'"
      ]
     },
     "execution_count": 13,
     "metadata": {},
     "output_type": "execute_result"
    }
   ],
   "source": [
    "parsed_data[(\"sub\", \"key\")]"
   ]
  },
  {
   "cell_type": "code",
   "execution_count": 14,
   "metadata": {},
   "outputs": [
    {
     "data": {
      "text/plain": [
       "'val'"
      ]
     },
     "execution_count": 14,
     "metadata": {},
     "output_type": "execute_result"
    }
   ],
   "source": [
    "parsed_data.dot_lookup(\"sub.key\")"
   ]
  },
  {
   "cell_type": "code",
   "execution_count": 15,
   "metadata": {},
   "outputs": [
    {
     "data": {
      "text/plain": [
       "{'key': 'value',\n",
       " 'list': [1, 2, 3, 4, 5],\n",
       " 'dt': '1970-01-01T00:00:00.000001',\n",
       " 'sub': JsonObj(**{'b': 3, 'key': 'val', 'a': 1}),\n",
       " 'timedelta': 172800.0}"
      ]
     },
     "execution_count": 15,
     "metadata": {},
     "output_type": "execute_result"
    }
   ],
   "source": [
    "{**parsed_data}"
   ]
  },
  {
   "cell_type": "code",
   "execution_count": 16,
   "metadata": {},
   "outputs": [
    {
     "data": {
      "text/plain": [
       "{'key': 'value',\n",
       " 'list': [1, 2, 3, 4, 5],\n",
       " 'dt': '1970-01-01T00:00:00.000001',\n",
       " 'sub': {'b': 3, 'key': 'val', 'a': 1},\n",
       " 'timedelta': 172800.0}"
      ]
     },
     "execution_count": 16,
     "metadata": {},
     "output_type": "execute_result"
    }
   ],
   "source": [
    "# fully eject\n",
    "parsed_data.eject()"
   ]
  },
  {
   "cell_type": "markdown",
   "metadata": {},
   "source": [
    "#### Protected keys\n",
    "\n",
    "`jsonbourne.JsonObj` protects against setting attributes like `'items'` through dot-notation."
   ]
  },
  {
   "cell_type": "code",
   "execution_count": 17,
   "metadata": {
    "collapsed": false,
    "jupyter": {
     "outputs_hidden": false
    },
    "pycharm": {
     "name": "#%%\n"
    }
   },
   "outputs": [
    {
     "name": "stdout",
     "output_type": "stream",
     "text": [
      "{'_data': {'key': 'value', 'items': [1, 2, 3, 4]}}\n",
      "JsonObj(**{\n",
      "    'items': [1, 2, 3, 4], 'key': 'value'\n",
      "})\n",
      "items <bound method JsonObj.items of JsonObj(**{'key': 'value', 'items': [1, 2, 3, 4]})>\n"
     ]
    }
   ],
   "source": [
    "from jsonbourne import JSON\n",
    "\n",
    "j = JSON()\n",
    "j.key = \"value\"\n",
    "try:  # CANNOT set 'items' using dot-access\n",
    "    j.items = [1, 2, 3, 4]\n",
    "except ValueError:\n",
    "    pass\n",
    "# CAN set 'items' through key/item access\n",
    "j[\"items\"] = [1, 2, 3, 4]\n",
    "print(j.__dict__)\n",
    "print(j)\n",
    "j_items = j.items\n",
    "print(\"items\", j_items)\n",
    "# Getting 'items' through dot-access returns the `items()` method\n",
    "assert j.items != [1, 2, 3, 4]\n",
    "# Getting 'items' with key-access returns the stored value\n",
    "assert j[\"items\"] == [1, 2, 3, 4]"
   ]
  },
  {
   "cell_type": "markdown",
   "metadata": {},
   "source": [
    "### pydantic & jsonbourne\n",
    "\n",
    " - `from jsonbourne.pydantic import JsonBaseModel`\n",
    " - Allows for aliases when getting/setting attribute(s)\n",
    " - Supports `__post_init__` (like dataclasses)\n",
    "\n",
    "#### Basic usage:"
   ]
  },
  {
   "cell_type": "code",
   "execution_count": 18,
   "metadata": {},
   "outputs": [
    {
     "data": {
      "text/html": [
       "<pre>JsonObjModel(**{\n",
       "    'a': 1, 'b': 2, 'c': 'herm', 'd': JsonObj(**{'nested': 'nestedval'}), 'e': {'herm': 2}\n",
       "})</pre>"
      ],
      "text/plain": [
       "JsonObjModel(a=1, b=2, c='herm', d=JsonObj(**{'nested': 'nestedval'}), e=JsonSubObj(herm=2))"
      ]
     },
     "execution_count": 18,
     "metadata": {},
     "output_type": "execute_result"
    }
   ],
   "source": [
    "from jsonbourne import JsonObj\n",
    "from jsonbourne.pydantic import JsonBaseModel\n",
    "\n",
    "\n",
    "class JsonSubObj(JsonBaseModel):\n",
    "    herm: int\n",
    "\n",
    "    def to_dict(self):\n",
    "        return self.dict()\n",
    "\n",
    "    def to_json(self, *args, **kwargs):\n",
    "        return self.json()\n",
    "\n",
    "    @classmethod\n",
    "    def from_json(cls, json_string: str):\n",
    "        return JsonSubObj(json.loads(json_string))\n",
    "\n",
    "\n",
    "class JsonObjModel(JsonBaseModel):\n",
    "    a: int\n",
    "    b: int\n",
    "    c: str\n",
    "    d: JsonObj\n",
    "    e: JsonSubObj\n",
    "\n",
    "    #\n",
    "    @property\n",
    "    def a_property(self) -> str:\n",
    "        return \"prop_value\"\n",
    "\n",
    "    def to_json(self, *args, **kwargs):\n",
    "        return self.json()\n",
    "\n",
    "    @classmethod\n",
    "    def from_json(cls, json_string: str):\n",
    "        return cls(**json.loads(json_string))\n",
    "\n",
    "\n",
    "obj = JsonObjModel(\n",
    "    **{\"a\": 1, \"b\": 2, \"c\": \"herm\", \"d\": {\"nested\": \"nestedval\"}, \"e\": {\"herm\": 2}}\n",
    ")\n",
    "obj"
   ]
  },
  {
   "cell_type": "code",
   "execution_count": 19,
   "metadata": {},
   "outputs": [
    {
     "data": {
      "text/plain": [
       "'prop_value'"
      ]
     },
     "execution_count": 19,
     "metadata": {},
     "output_type": "execute_result"
    }
   ],
   "source": [
    "# respects properties (which I don't think pydantic does(currently))\n",
    "obj.a_property"
   ]
  },
  {
   "cell_type": "markdown",
   "metadata": {},
   "source": [
    "___"
   ]
  },
  {
   "cell_type": "markdown",
   "metadata": {},
   "source": [
    "## JSON backend/lib\n",
    "\n",
    "**`jsonbourne` finds the best json-lib (python-rapidjson/orjson) it can!** On import `jsonbourne` gets to\n",
    "work spying on your python env. `jsonbourne`, the most highly qualified json-CIA-agent, will import the best\n",
    "python-json library it can find; if `jsonbourne`'s cover is blown (meaning: the\n",
    "only json library found is the python stdlib json), `jsonbourne` will fallback\n",
    "to\n",
    "the python stdlib json.\n",
    "\n",
    "`jsonbourne` will look for the following json-packages in the following order:\n",
    "\n",
    "  1) `rapidjson`\n",
    "  2) `orjson`\n",
    "\n",
    "### Custom lib preferences"
   ]
  },
  {
   "cell_type": "code",
   "execution_count": 20,
   "metadata": {},
   "outputs": [
    {
     "name": "stdout",
     "output_type": "stream",
     "text": [
      "<class 'jsonbourne.jsonlib._rapidjson.RAPIDJSON'>\n",
      "{\"a\":1,\"b\":2,\"c\":3}\n"
     ]
    }
   ],
   "source": [
    "from jsonbourne import import_json\n",
    "\n",
    "json = import_json((\"rapidjson\", \"orjson\"))  # prefer rapidjson over orjson\n",
    "string = json.dumps({\"a\": 1, \"b\": 2, \"c\": 3})\n",
    "print(json)\n",
    "print(string)"
   ]
  },
  {
   "cell_type": "markdown",
   "metadata": {},
   "source": [
    "### Installing better JSON lib:\n",
    "\n",
    "- `pip install orjson` [pip]\n",
    "- `pip install python-rapidjson` [pip]\n",
    "- `conda install -c anaconda python-rapidjson` [conda anaconda/defaults]\n",
    "- `conda install -c conda-forge python-rapidjson` [conda-forge]\n"
   ]
  }
 ],
 "metadata": {
  "kernelspec": {
   "display_name": "Python 3",
   "language": "python",
   "name": "python3"
  },
  "language_info": {
   "codemirror_mode": {
    "name": "ipython",
    "version": 3
   },
   "file_extension": ".py",
   "mimetype": "text/x-python",
   "name": "python",
   "nbconvert_exporter": "python",
   "pygments_lexer": "ipython3",
   "version": "3.8.5"
  }
 },
 "nbformat": 4,
 "nbformat_minor": 4
}
