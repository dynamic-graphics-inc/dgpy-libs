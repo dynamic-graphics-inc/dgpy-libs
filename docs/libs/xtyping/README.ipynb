{
 "cells": [
  {
   "cell_type": "markdown",
   "source": [
    "<a href=\"https://github.com/dynamic-graphics-inc/dgpy-libs\">\n",
    "<img align=\"right\" src=\"https://github.com/dynamic-graphics-inc/dgpy-libs/blob/master/docs/images/dgpy_banner.svg?raw=true\" alt=\"drawing\" height=\"120\" width=\"300\"/>\n",
    "</a>\n",
    "\n",
    "# xtyping\n",
    "\n",
    "[![Wheel](https://img.shields.io/pypi/wheel/xtyping.svg)](https://img.shields.io/pypi/wheel/xtyping.svg)\n",
    "[![Version](https://img.shields.io/pypi/v/xtyping.svg)](https://img.shields.io/pypi/v/xtyping.svg)\n",
    "[![py_versions](https://img.shields.io/pypi/pyversions/xtyping.svg)](https://img.shields.io/pypi/pyversions/xtyping.svg)\n",
    "[![Code style: black](https://img.shields.io/badge/code%20style-black-000000.svg)](https://github.com/psf/black)\n",
    "\n",
    "**Install:** `pip install xtyping`\n",
    "\n",
    "___\n",
    "\n",
    "## What is xtyping?\n",
    "\n",
    "xtyping (short for extended typing) lets you import all your friends from `typing` as well as `typing_extensions`\n",
    "\n",
    " - `typing` | `typing_extensions`; xtyping 'exports' everything in `typing.__all__` and `typing_extensions.__all__`\n",
    " - Common type aliases\n",
    "\n",
    "\n",
    "## Why not use `typing_extensions`?\n",
    "\n",
    "Don't have to import both `typing` and `typing_extensions`; BOOM\n",
    "\n",
    "Instead of writing:\n",
    "\n",
    "```\n",
    "from typing import Optional\n",
    "from typing_extensions import TypedDict\n",
    "```\n",
    "\n",
    "you can write:\n",
    "\n",
    "```\n",
    "from xtyping import Optional, TypedDict\n",
    "# or\n",
    "import xtyping as xt\n",
    "TypedDict = xt.TypedDict\n",
    "Optional = xt.Optional\n",
    "```\n"
   ],
   "metadata": {
    "pycharm": {
     "name": "#%% md\n"
    }
   }
  },
  {
   "cell_type": "code",
   "execution_count": 2,
   "source": [
    "import xtyping as xt\n",
    "\n",
    "from_typing = [\n",
    "    \"  ~  \".join((f\"xt.{el}\", f\"typing.{el}\", str(getattr(xt, el))))\n",
    "    for el in xt.__all_typing__\n",
    "]\n",
    "from_typing_extensions = [\n",
    "    \"  ~  \".join((f\"xt.{el}\", f\"typing_extensions.{el}\", str(getattr(xt, el))))\n",
    "    for el in xt.__all_typing__\n",
    "]\n",
    "from_xtyping_shed = [\n",
    "    \"  ~  \".join((f\"xt.{el}\", f\"xtyping.shed.{el}\", str(getattr(xt, el))))\n",
    "    for el in xt.__all_shed__\n",
    "]\n",
    "print(\n",
    "    \"\\n\".join(\n",
    "        [\n",
    "            \"-------------\",\n",
    "            \"from `typing`\",\n",
    "            \"-------------\",\n",
    "            *from_typing,\n",
    "            \"\\n\",\n",
    "            \"------------------------\",\n",
    "            \"from `typing_extensions`\",\n",
    "            \"------------------------\",\n",
    "            *from_typing_extensions,\n",
    "            \"\\n\",\n",
    "            \"-------------------\",\n",
    "            \"from `xtyping.shed`\",\n",
    "            \"-------------------\",\n",
    "            *from_xtyping_shed,\n",
    "            \"\\n\",\n",
    "        ]\n",
    "    )\n",
    ")\n"
   ],
   "outputs": [
    {
     "output_type": "execute_result",
     "data": {
      "text/plain": [
       "\"-------------\\nfrom `typing`\\n-------------\\nxt.AbstractSet  ~  typing.AbstractSet  ~  typing.AbstractSet\\nxt.Any  ~  typing.Any  ~  typing.Any\\nxt.AnyStr  ~  typing.AnyStr  ~  ~AnyStr\\nxt.AsyncContextManager  ~  typing.AsyncContextManager  ~  typing.AbstractAsyncContextManager\\nxt.AsyncGenerator  ~  typing.AsyncGenerator  ~  typing.AsyncGenerator\\nxt.AsyncIterable  ~  typing.AsyncIterable  ~  typing.AsyncIterable\\nxt.AsyncIterator  ~  typing.AsyncIterator  ~  typing.AsyncIterator\\nxt.Awaitable  ~  typing.Awaitable  ~  typing.Awaitable\\nxt.ByteString  ~  typing.ByteString  ~  typing.ByteString\\nxt.Callable  ~  typing.Callable  ~  typing.Callable\\nxt.ChainMap  ~  typing.ChainMap  ~  typing.ChainMap\\nxt.ClassVar  ~  typing.ClassVar  ~  typing.ClassVar\\nxt.Collection  ~  typing.Collection  ~  typing.Collection\\nxt.Container  ~  typing.Container  ~  typing.Container\\nxt.ContextManager  ~  typing.ContextManager  ~  typing.AbstractContextManager\\nxt.Coroutine  ~  typing.Coroutine  ~  typing.Coroutine\\nxt.Counter  ~  typing.Counter  ~  typing.Counter\\nxt.DefaultDict  ~  typing.DefaultDict  ~  typing.DefaultDict\\nxt.Deque  ~  typing.Deque  ~  typing.Deque\\nxt.Dict  ~  typing.Dict  ~  typing.Dict\\nxt.FrozenSet  ~  typing.FrozenSet  ~  typing.FrozenSet\\nxt.Generator  ~  typing.Generator  ~  typing.Generator\\nxt.Generic  ~  typing.Generic  ~  <class 'typing.Generic'>\\nxt.Hashable  ~  typing.Hashable  ~  typing.Hashable\\nxt.IO  ~  typing.IO  ~  <class 'typing.IO'>\\nxt.ItemsView  ~  typing.ItemsView  ~  typing.ItemsView\\nxt.Iterable  ~  typing.Iterable  ~  typing.Iterable\\nxt.Iterator  ~  typing.Iterator  ~  typing.Iterator\\nxt.KeysView  ~  typing.KeysView  ~  typing.KeysView\\nxt.List  ~  typing.List  ~  typing.List\\nxt.Mapping  ~  typing.Mapping  ~  typing.Mapping\\nxt.MappingView  ~  typing.MappingView  ~  typing.MappingView\\nxt.MutableMapping  ~  typing.MutableMapping  ~  typing.MutableMapping\\nxt.MutableSequence  ~  typing.MutableSequence  ~  typing.MutableSequence\\nxt.MutableSet  ~  typing.MutableSet  ~  typing.MutableSet\\nxt.NamedTuple  ~  typing.NamedTuple  ~  <class 'typing.NamedTuple'>\\nxt.NewType  ~  typing.NewType  ~  <function NewType at 0x7ff0bbcc2b80>\\nxt.Optional  ~  typing.Optional  ~  typing.Optional\\nxt.Reversible  ~  typing.Reversible  ~  typing.Reversible\\nxt.Sequence  ~  typing.Sequence  ~  typing.Sequence\\nxt.Set  ~  typing.Set  ~  typing.Set\\nxt.Sized  ~  typing.Sized  ~  typing.Sized\\nxt.SupportsAbs  ~  typing.SupportsAbs  ~  <class 'typing.SupportsAbs'>\\nxt.SupportsBytes  ~  typing.SupportsBytes  ~  <class 'typing.SupportsBytes'>\\nxt.SupportsComplex  ~  typing.SupportsComplex  ~  <class 'typing.SupportsComplex'>\\nxt.SupportsFloat  ~  typing.SupportsFloat  ~  <class 'typing.SupportsFloat'>\\nxt.SupportsInt  ~  typing.SupportsInt  ~  <class 'typing.SupportsInt'>\\nxt.SupportsRound  ~  typing.SupportsRound  ~  <class 'typing.SupportsRound'>\\nxt.TYPE_CHECKING  ~  typing.TYPE_CHECKING  ~  False\\nxt.Text  ~  typing.Text  ~  <class 'str'>\\nxt.Tuple  ~  typing.Tuple  ~  typing.Tuple\\nxt.Type  ~  typing.Type  ~  typing.Type\\nxt.TypeVar  ~  typing.TypeVar  ~  <class 'typing.TypeVar'>\\nxt.Union  ~  typing.Union  ~  typing.Union\\nxt.ValuesView  ~  typing.ValuesView  ~  typing.ValuesView\\nxt.cast  ~  typing.cast  ~  <function cast at 0x7ff0bbcb79d0>\\nxt.get_type_hints  ~  typing.get_type_hints  ~  <function get_type_hints at 0x7ff0bbcb7af0>\\nxt.no_type_check  ~  typing.no_type_check  ~  <function no_type_check at 0x7ff0bbcb7ca0>\\nxt.no_type_check_decorator  ~  typing.no_type_check_decorator  ~  <function no_type_check_decorator at 0x7ff0bbcb7d30>\\nxt.overload  ~  typing.overload  ~  <function overload at 0x7ff0bbcb7e50>\\nxt.__all_typing__  ~  typing.__all_typing__  ~  ['AbstractSet', 'Any', 'AnyStr', 'AsyncContextManager', 'AsyncGenerator', 'AsyncIterable', 'AsyncIterator', 'Awaitable', 'ByteString', 'Callable', 'ChainMap', 'ClassVar', 'Collection', 'Container', 'ContextManager', 'Coroutine', 'Counter', 'DefaultDict', 'Deque', 'Dict', 'FrozenSet', 'Generator', 'Generic', 'Hashable', 'IO', 'ItemsView', 'Iterable', 'Iterator', 'KeysView', 'List', 'Mapping', 'MappingView', 'MutableMapping', 'MutableSequence', 'MutableSet', 'NamedTuple', 'NewType', 'Optional', 'Reversible', 'Sequence', 'Set', 'Sized', 'SupportsAbs', 'SupportsBytes', 'SupportsComplex', 'SupportsFloat', 'SupportsInt', 'SupportsRound', 'TYPE_CHECKING', 'Text', 'Tuple', 'Type', 'TypeVar', 'Union', 'ValuesView', 'cast', 'get_type_hints', 'no_type_check', 'no_type_check_decorator', 'overload', '__all_typing__']\\n\\n\\n------------------------\\nfrom `typing_extensions`\\n------------------------\\nxt.AbstractSet  ~  typing_extensions.AbstractSet  ~  typing.AbstractSet\\nxt.Any  ~  typing_extensions.Any  ~  typing.Any\\nxt.AnyStr  ~  typing_extensions.AnyStr  ~  ~AnyStr\\nxt.AsyncContextManager  ~  typing_extensions.AsyncContextManager  ~  typing.AbstractAsyncContextManager\\nxt.AsyncGenerator  ~  typing_extensions.AsyncGenerator  ~  typing.AsyncGenerator\\nxt.AsyncIterable  ~  typing_extensions.AsyncIterable  ~  typing.AsyncIterable\\nxt.AsyncIterator  ~  typing_extensions.AsyncIterator  ~  typing.AsyncIterator\\nxt.Awaitable  ~  typing_extensions.Awaitable  ~  typing.Awaitable\\nxt.ByteString  ~  typing_extensions.ByteString  ~  typing.ByteString\\nxt.Callable  ~  typing_extensions.Callable  ~  typing.Callable\\nxt.ChainMap  ~  typing_extensions.ChainMap  ~  typing.ChainMap\\nxt.ClassVar  ~  typing_extensions.ClassVar  ~  typing.ClassVar\\nxt.Collection  ~  typing_extensions.Collection  ~  typing.Collection\\nxt.Container  ~  typing_extensions.Container  ~  typing.Container\\nxt.ContextManager  ~  typing_extensions.ContextManager  ~  typing.AbstractContextManager\\nxt.Coroutine  ~  typing_extensions.Coroutine  ~  typing.Coroutine\\nxt.Counter  ~  typing_extensions.Counter  ~  typing.Counter\\nxt.DefaultDict  ~  typing_extensions.DefaultDict  ~  typing.DefaultDict\\nxt.Deque  ~  typing_extensions.Deque  ~  typing.Deque\\nxt.Dict  ~  typing_extensions.Dict  ~  typing.Dict\\nxt.FrozenSet  ~  typing_extensions.FrozenSet  ~  typing.FrozenSet\\nxt.Generator  ~  typing_extensions.Generator  ~  typing.Generator\\nxt.Generic  ~  typing_extensions.Generic  ~  <class 'typing.Generic'>\\nxt.Hashable  ~  typing_extensions.Hashable  ~  typing.Hashable\\nxt.IO  ~  typing_extensions.IO  ~  <class 'typing.IO'>\\nxt.ItemsView  ~  typing_extensions.ItemsView  ~  typing.ItemsView\\nxt.Iterable  ~  typing_extensions.Iterable  ~  typing.Iterable\\nxt.Iterator  ~  typing_extensions.Iterator  ~  typing.Iterator\\nxt.KeysView  ~  typing_extensions.KeysView  ~  typing.KeysView\\nxt.List  ~  typing_extensions.List  ~  typing.List\\nxt.Mapping  ~  typing_extensions.Mapping  ~  typing.Mapping\\nxt.MappingView  ~  typing_extensions.MappingView  ~  typing.MappingView\\nxt.MutableMapping  ~  typing_extensions.MutableMapping  ~  typing.MutableMapping\\nxt.MutableSequence  ~  typing_extensions.MutableSequence  ~  typing.MutableSequence\\nxt.MutableSet  ~  typing_extensions.MutableSet  ~  typing.MutableSet\\nxt.NamedTuple  ~  typing_extensions.NamedTuple  ~  <class 'typing.NamedTuple'>\\nxt.NewType  ~  typing_extensions.NewType  ~  <function NewType at 0x7ff0bbcc2b80>\\nxt.Optional  ~  typing_extensions.Optional  ~  typing.Optional\\nxt.Reversible  ~  typing_extensions.Reversible  ~  typing.Reversible\\nxt.Sequence  ~  typing_extensions.Sequence  ~  typing.Sequence\\nxt.Set  ~  typing_extensions.Set  ~  typing.Set\\nxt.Sized  ~  typing_extensions.Sized  ~  typing.Sized\\nxt.SupportsAbs  ~  typing_extensions.SupportsAbs  ~  <class 'typing.SupportsAbs'>\\nxt.SupportsBytes  ~  typing_extensions.SupportsBytes  ~  <class 'typing.SupportsBytes'>\\nxt.SupportsComplex  ~  typing_extensions.SupportsComplex  ~  <class 'typing.SupportsComplex'>\\nxt.SupportsFloat  ~  typing_extensions.SupportsFloat  ~  <class 'typing.SupportsFloat'>\\nxt.SupportsInt  ~  typing_extensions.SupportsInt  ~  <class 'typing.SupportsInt'>\\nxt.SupportsRound  ~  typing_extensions.SupportsRound  ~  <class 'typing.SupportsRound'>\\nxt.TYPE_CHECKING  ~  typing_extensions.TYPE_CHECKING  ~  False\\nxt.Text  ~  typing_extensions.Text  ~  <class 'str'>\\nxt.Tuple  ~  typing_extensions.Tuple  ~  typing.Tuple\\nxt.Type  ~  typing_extensions.Type  ~  typing.Type\\nxt.TypeVar  ~  typing_extensions.TypeVar  ~  <class 'typing.TypeVar'>\\nxt.Union  ~  typing_extensions.Union  ~  typing.Union\\nxt.ValuesView  ~  typing_extensions.ValuesView  ~  typing.ValuesView\\nxt.cast  ~  typing_extensions.cast  ~  <function cast at 0x7ff0bbcb79d0>\\nxt.get_type_hints  ~  typing_extensions.get_type_hints  ~  <function get_type_hints at 0x7ff0bbcb7af0>\\nxt.no_type_check  ~  typing_extensions.no_type_check  ~  <function no_type_check at 0x7ff0bbcb7ca0>\\nxt.no_type_check_decorator  ~  typing_extensions.no_type_check_decorator  ~  <function no_type_check_decorator at 0x7ff0bbcb7d30>\\nxt.overload  ~  typing_extensions.overload  ~  <function overload at 0x7ff0bbcb7e50>\\nxt.__all_typing__  ~  typing_extensions.__all_typing__  ~  ['AbstractSet', 'Any', 'AnyStr', 'AsyncContextManager', 'AsyncGenerator', 'AsyncIterable', 'AsyncIterator', 'Awaitable', 'ByteString', 'Callable', 'ChainMap', 'ClassVar', 'Collection', 'Container', 'ContextManager', 'Coroutine', 'Counter', 'DefaultDict', 'Deque', 'Dict', 'FrozenSet', 'Generator', 'Generic', 'Hashable', 'IO', 'ItemsView', 'Iterable', 'Iterator', 'KeysView', 'List', 'Mapping', 'MappingView', 'MutableMapping', 'MutableSequence', 'MutableSet', 'NamedTuple', 'NewType', 'Optional', 'Reversible', 'Sequence', 'Set', 'Sized', 'SupportsAbs', 'SupportsBytes', 'SupportsComplex', 'SupportsFloat', 'SupportsInt', 'SupportsRound', 'TYPE_CHECKING', 'Text', 'Tuple', 'Type', 'TypeVar', 'Union', 'ValuesView', 'cast', 'get_type_hints', 'no_type_check', 'no_type_check_decorator', 'overload', '__all_typing__']\\n\\n\\n-------------------\\nfrom `xtyping.shed`\\n-------------------\\nxt.AF  ~  xtyping.shed.AF  ~  ~AF\\nxt.AnyCallable  ~  xtyping.shed.AnyCallable  ~  typing.Callable[..., typing.Any]\\nxt.AnyFunction  ~  xtyping.shed.AnyFunction  ~  typing.Union[typing.Callable[..., ~R], typing.Callable[..., typing.Awaitable[~R]]]\\nxt.AnyIterable  ~  xtyping.shed.AnyIterable  ~  typing.Union[typing.Iterable[~T], typing.AsyncIterable[~T]]\\nxt.AnyIterator  ~  xtyping.shed.AnyIterator  ~  typing.Union[typing.Iterator[~T], typing.AsyncIterator[~T]]\\nxt.ArrShape  ~  xtyping.shed.ArrShape  ~  typing.Tuple[int, ...]\\nxt.ArrayShape  ~  xtyping.shed.ArrayShape  ~  typing.Tuple[int, ...]\\nxt.Bytes  ~  xtyping.shed.Bytes  ~  typing.Union[bytes, bytearray]\\nxt.CmdArgsType  ~  xtyping.shed.CmdArgsType  ~  typing.Union[bytes, str, typing.Sequence[str], typing.Sequence[typing.Union[str, pathlib.Path]]]\\nxt.Decimal  ~  xtyping.shed.Decimal  ~  <class 'decimal.Decimal'>\\nxt.DT  ~  xtyping.shed.DT  ~  ~DT\\nxt.DictAny  ~  xtyping.shed.DictAny  ~  typing.Dict[typing.Any, typing.Any]\\nxt.DictAnyAny  ~  xtyping.shed.DictAnyAny  ~  typing.Dict[typing.Any, typing.Any]\\nxt.DictFloat  ~  xtyping.shed.DictFloat  ~  typing.Dict[float, float]\\nxt.DictFloatFloat  ~  xtyping.shed.DictFloatFloat  ~  typing.Dict[float, float]\\nxt.DictInt  ~  xtyping.shed.DictInt  ~  typing.Dict[int, int]\\nxt.DictIntInt  ~  xtyping.shed.DictIntInt  ~  typing.Dict[int, int]\\nxt.DictNumber  ~  xtyping.shed.DictNumber  ~  typing.Dict[typing.Union[int, float], typing.Union[int, float]]\\nxt.DictNumberNumber  ~  xtyping.shed.DictNumberNumber  ~  typing.Dict[typing.Union[int, float], typing.Union[int, float]]\\nxt.DictStr  ~  xtyping.shed.DictStr  ~  typing.Dict[str, str]\\nxt.DictStrAny  ~  xtyping.shed.DictStrAny  ~  typing.Dict[str, typing.Any]\\nxt.DictStrInt  ~  xtyping.shed.DictStrInt  ~  typing.Dict[str, int]\\nxt.DictStrStr  ~  xtyping.shed.DictStrStr  ~  typing.Dict[str, str]\\nxt.El  ~  xtyping.shed.El  ~  ~El\\nxt.Element  ~  xtyping.shed.Element  ~  ~Element\\nxt.EnvMap  ~  xtyping.shed.EnvMap  ~  typing.Union[typing.Mapping[bytes, typing.Union[bytes, str]], typing.Mapping[str, typing.Union[bytes, str]]]\\nxt.EnvType  ~  xtyping.shed.EnvType  ~  typing.Union[typing.Mapping[bytes, typing.Union[bytes, str]], typing.Mapping[str, typing.Union[bytes, str]]]\\nxt.F  ~  xtyping.shed.F  ~  ~F\\nxt.FN  ~  xtyping.shed.FN  ~  ~FN\\nxt.Flint  ~  xtyping.shed.Flint  ~  typing.Union[int, float]\\nxt.FsPath  ~  xtyping.shed.FsPath  ~  typing.Union[str, pathlib.Path]\\nxt.FsPathLike  ~  xtyping.shed.FsPathLike  ~  typing.Union[str, os.PathLike]\\nxt.FuncType  ~  xtyping.shed.FuncType  ~  typing.Callable[..., typing.Any]\\nxt.HrTime  ~  xtyping.shed.HrTime  ~  typing.Tuple[int, int]\\nxt.IO  ~  xtyping.shed.IO  ~  <class 'typing.IO'>\\nxt.IntStr  ~  xtyping.shed.IntStr  ~  typing.Union[int, str]\\nxt.IterableAny  ~  xtyping.shed.IterableAny  ~  typing.Iterable[typing.Any]\\nxt.IterableFloat  ~  xtyping.shed.IterableFloat  ~  typing.Iterable[float]\\nxt.IterableInt  ~  xtyping.shed.IterableInt  ~  typing.Iterable[int]\\nxt.IterableNumber  ~  xtyping.shed.IterableNumber  ~  typing.Iterable[typing.Union[int, float]]\\nxt.IterableStr  ~  xtyping.shed.IterableStr  ~  typing.Iterable[str]\\nxt.IterableT  ~  xtyping.shed.IterableT  ~  typing.Iterable[~T]\\nxt.JsonArrT  ~  xtyping.shed.JsonArrT  ~  typing.List[typing.Any]\\nxt.JsonDictT  ~  xtyping.shed.JsonDictT  ~  typing.Dict[str, typing.Any]\\nxt.JsonListT  ~  xtyping.shed.JsonListT  ~  typing.List[typing.Any]\\nxt.JsonObjT  ~  xtyping.shed.JsonObjT  ~  typing.Dict[str, typing.Any]\\nxt.KT  ~  xtyping.shed.KT  ~  ~KT\\nxt.KeyT  ~  xtyping.shed.KeyT  ~  ~KeyT\\nxt.KeyType  ~  xtyping.shed.KeyType  ~  ~KeyType\\nxt.ListAny  ~  xtyping.shed.ListAny  ~  typing.List[typing.Any]\\nxt.ListFloat  ~  xtyping.shed.ListFloat  ~  typing.List[float]\\nxt.ListInt  ~  xtyping.shed.ListInt  ~  typing.List[int]\\nxt.ListListStr  ~  xtyping.shed.ListListStr  ~  typing.List[typing.List[str]]\\nxt.ListNumber  ~  xtyping.shed.ListNumber  ~  typing.List[typing.Union[int, float]]\\nxt.ListStr  ~  xtyping.shed.ListStr  ~  typing.List[str]\\nxt.ListT  ~  xtyping.shed.ListT  ~  typing.List[~T]\\nxt.N  ~  xtyping.shed.N  ~  ~N\\nxt.NoneBytes  ~  xtyping.shed.NoneBytes  ~  typing.Union[bytes, NoneType]\\nxt.NoneStr  ~  xtyping.shed.NoneStr  ~  typing.Union[str, NoneType]\\nxt.NoneStrBytes  ~  xtyping.shed.NoneStrBytes  ~  typing.Union[str, bytes, NoneType]\\nxt.NoneType  ~  xtyping.shed.NoneType  ~  <class 'NoneType'>\\nxt.Null  ~  xtyping.shed.Null  ~  <class 'NoneType'>\\nxt.Number  ~  xtyping.shed.Number  ~  typing.Union[int, float]\\nxt.OptFloat  ~  xtyping.shed.OptFloat  ~  typing.Union[float, NoneType]\\nxt.OptInt  ~  xtyping.shed.OptInt  ~  typing.Union[int, NoneType]\\nxt.OptStr  ~  xtyping.shed.OptStr  ~  typing.Union[str, NoneType]\\nxt.OptionalFloat  ~  xtyping.shed.OptionalFloat  ~  typing.Union[float, NoneType]\\nxt.OptionalInt  ~  xtyping.shed.OptionalInt  ~  typing.Union[int, NoneType]\\nxt.OptionalStr  ~  xtyping.shed.OptionalStr  ~  typing.Union[str, NoneType]\\nxt.Path  ~  xtyping.shed.Path  ~  <class 'pathlib.Path'>\\nxt.PathLike  ~  xtyping.shed.PathLike  ~  <class 'os.PathLike'>\\nxt.R  ~  xtyping.shed.R  ~  ~R\\nxt.RT  ~  xtyping.shed.RT  ~  ~RT\\nxt.ReturnT  ~  xtyping.shed.ReturnT  ~  ~ReturnT\\nxt.ReturnType  ~  xtyping.shed.ReturnType  ~  ~ReturnType\\nxt.STDIN  ~  xtyping.shed.STDIN  ~  typing.Union[bytes, str, NoneType]\\nxt.STDIO  ~  xtyping.shed.STDIO  ~  typing.Union[NoneType, int, bytes, typing.IO[typing.Any]]\\nxt.SetAny  ~  xtyping.shed.SetAny  ~  typing.Set[typing.Any]\\nxt.SetFloat  ~  xtyping.shed.SetFloat  ~  typing.Set[float]\\nxt.SetInt  ~  xtyping.shed.SetInt  ~  typing.Set[int]\\nxt.SetNumber  ~  xtyping.shed.SetNumber  ~  typing.Set[typing.Union[int, float]]\\nxt.SetStr  ~  xtyping.shed.SetStr  ~  typing.Set[str]\\nxt.SetT  ~  xtyping.shed.SetT  ~  typing.Set[~T]\\nxt.ShapeType  ~  xtyping.shed.ShapeType  ~  typing.Tuple[int, ...]\\nxt.StrBytes  ~  xtyping.shed.StrBytes  ~  typing.Union[str, bytes]\\nxt.StrEnum  ~  xtyping.shed.StrEnum  ~  <enum 'StrEnum'>\\nxt.StrIntFloat  ~  xtyping.shed.StrIntFloat  ~  typing.Union[str, int, float]\\nxt.StringEnum  ~  xtyping.shed.StringEnum  ~  <enum 'StringEnum'>\\nxt.T  ~  xtyping.shed.T  ~  ~T\\nxt.T_co  ~  xtyping.shed.T_co  ~  +T_co\\nxt.T_contra  ~  xtyping.shed.T_contra  ~  -T_contra\\nxt.TupleStrStr  ~  xtyping.shed.TupleStrStr  ~  typing.Tuple[str, str]\\nxt.TupleStrs  ~  xtyping.shed.TupleStrs  ~  typing.Tuple[str, ...]\\nxt.Txt  ~  xtyping.shed.Txt  ~  typing.Union[bytes, str]\\nxt.VT  ~  xtyping.shed.VT  ~  ~VT\\nxt.VT_co  ~  xtyping.shed.VT_co  ~  +VT_co\\nxt.V_co  ~  xtyping.shed.V_co  ~  +V_co\\nxt.ValT  ~  xtyping.shed.ValT  ~  ~ValT\\nxt.ValType  ~  xtyping.shed.ValType  ~  ~ValType\\nxt._DT  ~  xtyping.shed._DT  ~  ~_DT\\nxt._R  ~  xtyping.shed._R  ~  ~_R\\nxt._RT  ~  xtyping.shed._RT  ~  ~_RT\\nxt._T  ~  xtyping.shed._T  ~  ~_T\\nxt.null  ~  xtyping.shed.null  ~  <class 'NoneType'>\\nxt.__all_shed__  ~  xtyping.shed.__all_shed__  ~  ['AF', 'AnyCallable', 'AnyFunction', 'AnyIterable', 'AnyIterator', 'ArrShape', 'ArrayShape', 'Bytes', 'CmdArgsType', 'Decimal', 'DT', 'DictAny', 'DictAnyAny', 'DictFloat', 'DictFloatFloat', 'DictInt', 'DictIntInt', 'DictNumber', 'DictNumberNumber', 'DictStr', 'DictStrAny', 'DictStrInt', 'DictStrStr', 'El', 'Element', 'EnvMap', 'EnvType', 'F', 'FN', 'Flint', 'FsPath', 'FsPathLike', 'FuncType', 'HrTime', 'IO', 'IntStr', 'IterableAny', 'IterableFloat', 'IterableInt', 'IterableNumber', 'IterableStr', 'IterableT', 'JsonArrT', 'JsonDictT', 'JsonListT', 'JsonObjT', 'KT', 'KeyT', 'KeyType', 'ListAny', 'ListFloat', 'ListInt', 'ListListStr', 'ListNumber', 'ListStr', 'ListT', 'N', 'NoneBytes', 'NoneStr', 'NoneStrBytes', 'NoneType', 'Null', 'Number', 'OptFloat', 'OptInt', 'OptStr', 'OptionalFloat', 'OptionalInt', 'OptionalStr', 'Path', 'PathLike', 'R', 'RT', 'ReturnT', 'ReturnType', 'STDIN', 'STDIO', 'SetAny', 'SetFloat', 'SetInt', 'SetNumber', 'SetStr', 'SetT', 'ShapeType', 'StrBytes', 'StrEnum', 'StrIntFloat', 'StringEnum', 'T', 'T_co', 'T_contra', 'TupleStrStr', 'TupleStrs', 'Txt', 'VT', 'VT_co', 'V_co', 'ValT', 'ValType', '_DT', '_R', '_RT', '_T', 'null', '__all_shed__']\\n\\n\""
      ]
     },
     "metadata": {},
     "execution_count": 2
    }
   ],
   "metadata": {}
  }
 ],
 "metadata": {
  "kernelspec": {
   "name": "python3",
   "display_name": "Python 3.8.10 64-bit ('.venv': poetry)"
  },
  "language_info": {
   "codemirror_mode": {
    "name": "ipython",
    "version": 3
   },
   "file_extension": ".py",
   "mimetype": "text/x-python",
   "name": "python",
   "nbconvert_exporter": "python",
   "pygments_lexer": "ipython3",
   "version": "3.8.10"
  },
  "interpreter": {
   "hash": "c1fad6bbc58b36693abfe072facc72e944020e163c75b2ede30a7a06623cab86"
  }
 },
 "nbformat": 4,
 "nbformat_minor": 4
}