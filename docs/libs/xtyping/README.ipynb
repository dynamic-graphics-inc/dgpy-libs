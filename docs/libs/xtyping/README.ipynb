{
 "cells": [
  {
   "cell_type": "markdown",
   "metadata": {
    "pycharm": {
     "name": "#%% md\n"
    }
   },
   "source": [
    "<a href=\"https://github.com/dynamic-graphics-inc/dgpy-libs\">\n",
    "<img align=\"right\" src=\"https://github.com/dynamic-graphics-inc/dgpy-libs/blob/master/docs/images/dgpy_banner.svg?raw=true\" alt=\"drawing\" height=\"120\" width=\"300\"/>\n",
    "</a>\n",
    "\n",
    "# xtyping\n",
    "\n",
    "[![Wheel](https://img.shields.io/pypi/wheel/xtyping.svg)](https://img.shields.io/pypi/wheel/xtyping.svg)\n",
    "[![Version](https://img.shields.io/pypi/v/xtyping.svg)](https://img.shields.io/pypi/v/xtyping.svg)\n",
    "[![py_versions](https://img.shields.io/pypi/pyversions/xtyping.svg)](https://img.shields.io/pypi/pyversions/xtyping.svg)\n",
    "[![Code style: black](https://img.shields.io/badge/code%20style-black-000000.svg)](https://github.com/psf/black)\n",
    "\n",
    "**Install:** `pip install xtyping`\n",
    "\n",
    "___\n",
    "\n",
    "xtyping (short for extended typing) is a collection of common python type annotation aliases. Most common members of `typing` are also importable from `xtyping`.\n",
    "\n",
    "If you want to 'steal' this, you can copy the module `xtyping._xtyping` and never look back; alternatively you could help expand/correct this package you could send me that PR!'\n",
    "\n",
    "NOTE: This package is largely auto generated so have a grain of salt with your xtyping\n",
    "\n",
    "```python\n",
    "import xtyping as xt\n",
    "# or\n",
    "from xtyping import xt\n",
    "\n",
    "xt.DictAny # equiv to `Dict[Any, Any]`\n",
    "xt.Number # equiv to `Union[int, float]`\n",
    "# etc\n",
    "```\n",
    "\n",
    "## Why not use `typing_extensions`?\n",
    "\n",
    "Too many letters to type and 'xtyping' is a better package name (tho `typing_extensions` is an excellent package).\n",
    "\n",
    "## TODO:\n",
    "\n",
    " - Numpy/pandas integration\n",
    " - Pydantic extension/integration/buzzword\n",
    " - Figure out how to test this package?\n",
    " - Steal `typing_extensions` implementation o ye ole `TypedDict`"
   ]
  }
 ],
 "metadata": {
  "kernelspec": {
   "display_name": "Python 3",
   "language": "python",
   "name": "python3"
  },
  "language_info": {
   "codemirror_mode": {
    "name": "ipython",
    "version": 3
   },
   "file_extension": ".py",
   "mimetype": "text/x-python",
   "name": "python",
   "nbconvert_exporter": "python",
   "pygments_lexer": "ipython3",
   "version": "3.8.5"
  }
 },
 "nbformat": 4,
 "nbformat_minor": 4
}